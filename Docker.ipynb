{
 "cells": [
  {
   "cell_type": "markdown",
   "metadata": {},
   "source": [
    "**Container**\n",
    "- runtime instance of Docker image\n",
    "  - contains docker image,execution environment and instructions\n",
    "- isolated from system\n",
    "  - multiple containers can run on the system\n",
    "  - possible to replicate multiple containers from same image and scale the service up , when demand is high\n",
    "\n",
    "**Docker** **image**\n",
    "- similar to image of Linux distribution\n",
    "  - its package of dependancies and information for creating,deploying and executing container\n",
    "\n",
    "**Repository**\n",
    "- reservoir where images are stored that can be downloaded and installed on system\n",
    "\n",
    "**Registry**\n",
    "- online service that hosts and provides access to repositories of docker images\n",
    "- registry can be run on premises\n",
    "\n",
    "**Tag**\n",
    "- used to identify variants or versions\n",
    "\n",
    "**DockerFile**\n",
    "- text file that contains commands that are executed manually in order to build Docker image.These instructions are used by Docker to automatically build images.\n",
    "\n",
    "**Build**\n",
    "- process that creates an image from Dockerfile\n",
    "\n",
    "**Push**\n",
    "- process of \"pushing\" image to repository\n",
    "\n",
    "**Pull**\n",
    "- user can retrieve image from repository by \"pulling\"\n",
    "\n",
    "**Compose**\n",
    "- Compose is a command-line tool that’s used to run a multi-container application. It allows you to run a multi-container application with one command.\n",
    "\n"
   ]
  }
 ],
 "metadata": {
  "kernelspec": {
   "display_name": "Python 3",
   "language": "python",
   "name": "python3"
  },
  "language_info": {
   "codemirror_mode": {
    "name": "ipython",
    "version": 3
   },
   "file_extension": ".py",
   "mimetype": "text/x-python",
   "name": "python",
   "nbconvert_exporter": "python",
   "pygments_lexer": "ipython3",
   "version": "3.7.1rc1"
  },
  "toc": {
   "base_numbering": 1,
   "nav_menu": {},
   "number_sections": true,
   "sideBar": true,
   "skip_h1_title": false,
   "title_cell": "Table of Contents",
   "title_sidebar": "Contents",
   "toc_cell": false,
   "toc_position": {},
   "toc_section_display": true,
   "toc_window_display": false
  },
  "varInspector": {
   "cols": {
    "lenName": 16,
    "lenType": 16,
    "lenVar": 40
   },
   "kernels_config": {
    "python": {
     "delete_cmd_postfix": "",
     "delete_cmd_prefix": "del ",
     "library": "var_list.py",
     "varRefreshCmd": "print(var_dic_list())"
    },
    "r": {
     "delete_cmd_postfix": ") ",
     "delete_cmd_prefix": "rm(",
     "library": "var_list.r",
     "varRefreshCmd": "cat(var_dic_list()) "
    }
   },
   "types_to_exclude": [
    "module",
    "function",
    "builtin_function_or_method",
    "instance",
    "_Feature"
   ],
   "window_display": false
  }
 },
 "nbformat": 4,
 "nbformat_minor": 2
}
