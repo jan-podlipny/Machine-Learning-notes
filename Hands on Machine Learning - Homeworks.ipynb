{
 "cells": [
  {
   "cell_type": "markdown",
   "metadata": {},
   "source": [
    "Part I. The Fundamentals of Machine Learning\n",
    "\n",
    "Exercises:\n",
    "\n",
    "1. How would you define Machine Learning?\n",
    "  - Process of computer program learning from Experience on some Task and some performance measure, if performance P on task       T improves with experience E.\n",
    "\n",
    "2. Can you name four types of problems where it shines?\n",
    "  - when problem requires complex rules\n",
    "  - when there is no known algorithm (speech recognition)\n",
    "  - Fluctuating environments:Machine learning system can adapt to new data\n",
    "  - getting insights about complex problem and large amounts of data\n",
    "\n",
    "3. What is a labeled training set?\n",
    "  - it is a part of data set designated to be train on, with some sort of meaningful tag on it, \n",
    "\n",
    "4. What are the two most common supervised tasks?\n",
    "  - logistic regression\n",
    "  - decision trees and random forests\n",
    "\n",
    "5. Can you name four common unsupervised tasks?\n",
    "  - Principal component analysis (dimensionality reduction)\n",
    "  - Apriori (association rules making)\n",
    "  - k-Means (clustering\n",
    "\n",
    "6. What type of Machine Learning algorithm would you use to allow a robot to walk in various unknown terrains?\n",
    "  - Reinforcement learning\n",
    "\n",
    "7. What type of algorithm would you use to segment your customers into multiple groups?\n",
    "  - Clustering algorithm\n",
    "\n",
    "8. Would you frame the problem of spam detection as a supervised learning problem or an unsupervised learning problem?\n",
    "  - supervised learning\n",
    "9. What is an online learning system?\n",
    "  - system that can continuosly learn from stream of data\n",
    "10. What is out-of-core learning?\n",
    "  - used when memory of main machine is not big enough, learning is done on part of data, then trained, and then it starts learning on another part of data again\n",
    "  \n",
    "11. What type of learning algorithm relies on a similarity measure to make predictions?\n",
    "  - k-nearest-neighbors\n",
    "12. What is the difference between a model parameter and a learning algorithm’s hyperparameter?\n",
    "  - \n",
    "13. What do model-based learning algorithms search for? What is the most common strategy they use to succeed? How do they make predictions?\n",
    "  - they search for patterns in data,\n",
    "  \n",
    "14. Can you name four of the main challenges in Machine Learning?\n",
    "15. If your model performs great on the training data but generalizes poorly to new instances, what is happening? Can you name three possible solutions?\n",
    "16. What is a test set and why would you want to use it?\n",
    "17. What is the purpose of a validation set?\n",
    "18. What can go wrong if you tune hyperparameters using the test set?\n",
    "19. What is cross-validation and why would you prefer it to a validation set?"
   ]
  },
  {
   "cell_type": "code",
   "execution_count": null,
   "metadata": {},
   "outputs": [],
   "source": []
  }
 ],
 "metadata": {
  "kernelspec": {
   "display_name": "Python 3",
   "language": "python",
   "name": "python3"
  },
  "language_info": {
   "codemirror_mode": {
    "name": "ipython",
    "version": 3
   },
   "file_extension": ".py",
   "mimetype": "text/x-python",
   "name": "python",
   "nbconvert_exporter": "python",
   "pygments_lexer": "ipython3",
   "version": "3.7.1rc1"
  }
 },
 "nbformat": 4,
 "nbformat_minor": 2
}
