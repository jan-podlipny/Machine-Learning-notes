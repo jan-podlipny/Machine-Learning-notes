{
  "nbformat": 4,
  "nbformat_minor": 0,
  "metadata": {
    "colab": {
      "name": "ein_sumipynb",
      "provenance": [],
      "authorship_tag": "ABX9TyNGhHFlqQ8txabCQ20w9UNp",
      "include_colab_link": true
    },
    "kernelspec": {
      "name": "python3",
      "display_name": "Python 3"
    }
  },
  "cells": [
    {
      "cell_type": "markdown",
      "metadata": {
        "id": "view-in-github",
        "colab_type": "text"
      },
      "source": [
        "<a href=\"https://colab.research.google.com/github/jan-podlipny/Machine-Learning-notes/blob/master/einsum.ipynb\" target=\"_parent\"><img src=\"https://colab.research.google.com/assets/colab-badge.svg\" alt=\"Open In Colab\"/></a>"
      ]
    },
    {
      "cell_type": "code",
      "metadata": {
        "id": "nL7_yfXezuhi",
        "colab_type": "code",
        "colab": {}
      },
      "source": [
        "import numpy as np\n",
        "import torch as t"
      ],
      "execution_count": 1,
      "outputs": []
    },
    {
      "cell_type": "code",
      "metadata": {
        "id": "oC7xXyZD0Adi",
        "colab_type": "code",
        "colab": {}
      },
      "source": [
        "A = np.array([0, 1, 2])\n",
        "\n",
        "B = np.array([[ 0,  1,  2,  3],\n",
        "              [ 4,  5,  6,  7],\n",
        "              [ 8,  9, 10, 11]])\n",
        " "
      ],
      "execution_count": 90,
      "outputs": []
    },
    {
      "cell_type": "code",
      "metadata": {
        "id": "8wYBbV7E27Wq",
        "colab_type": "code",
        "colab": {
          "base_uri": "https://localhost:8080/",
          "height": 54
        },
        "outputId": "3cb1a5fa-dc24-4a32-c85b-edb5f147e0f7"
      },
      "source": [
        "#view of A\n",
        "print(np.einsum('i',A))\n",
        "#sum of elements in A (->)\n",
        "print(np.einsum('i->',A))"
      ],
      "execution_count": 91,
      "outputs": [
        {
          "output_type": "stream",
          "text": [
            "[0 1 2]\n",
            "3\n"
          ],
          "name": "stdout"
        }
      ]
    },
    {
      "cell_type": "code",
      "metadata": {
        "id": "KzKC9vzt3lJB",
        "colab_type": "code",
        "colab": {
          "base_uri": "https://localhost:8080/",
          "height": 127
        },
        "outputId": "fa08e6e4-7a8b-4ec0-e8e8-9fb06836ca59"
      },
      "source": [
        "print(np.einsum('ij',B))\n",
        "print(f\"Sum along columns {np.einsum('ij->i',B)}\")\n",
        "print(f\"Sum along rows {np.einsum('ij->j',B)}\")\n",
        "print(f\"Sum all elements {np.einsum('ij->',B)}\")"
      ],
      "execution_count": 92,
      "outputs": [
        {
          "output_type": "stream",
          "text": [
            "[[ 0  1  2  3]\n",
            " [ 4  5  6  7]\n",
            " [ 8  9 10 11]]\n",
            "Sum along columns [ 6 22 38]\n",
            "Sum along rows [12 15 18 21]\n",
            "Sum all elements 66\n"
          ],
          "name": "stdout"
        }
      ]
    },
    {
      "cell_type": "code",
      "metadata": {
        "id": "r0Mo3NIC0CW-",
        "colab_type": "code",
        "colab": {
          "base_uri": "https://localhost:8080/",
          "height": 54
        },
        "outputId": "b960a83c-6021-4c08-cac9-a6b5272ae8ab"
      },
      "source": [
        "#element wise multiplication and sum along columns\n",
        "print((A[:, np.newaxis] * B).sum(axis=1))\n",
        "print(np.einsum('i,ij->i',A, B))"
      ],
      "execution_count": 95,
      "outputs": [
        {
          "output_type": "stream",
          "text": [
            "[ 0 22 76]\n",
            "[ 0 22 76]\n"
          ],
          "name": "stdout"
        }
      ]
    },
    {
      "cell_type": "code",
      "metadata": {
        "id": "oQwqDBEm0YGL",
        "colab_type": "code",
        "colab": {}
      },
      "source": [
        "A = np.array([[1, 1, 1],\n",
        "              [2, 2, 2],\n",
        "              [5, 5, 5]])\n",
        "\n",
        "B = np.array([[0, 1, 0],\n",
        "              [1, 1, 0],\n",
        "              [1, 1, 1]])"
      ],
      "execution_count": 121,
      "outputs": []
    },
    {
      "cell_type": "code",
      "metadata": {
        "id": "g-YKL44RKYnv",
        "colab_type": "code",
        "colab": {
          "base_uri": "https://localhost:8080/",
          "height": 72
        },
        "outputId": "941a41d5-14c3-4445-9377-d92e3072aa85"
      },
      "source": [
        "#transpose A\n",
        "np.einsum('ji',A)"
      ],
      "execution_count": 138,
      "outputs": [
        {
          "output_type": "execute_result",
          "data": {
            "text/plain": [
              "array([[1, 2, 5],\n",
              "       [1, 2, 5],\n",
              "       [1, 2, 5]])"
            ]
          },
          "metadata": {
            "tags": []
          },
          "execution_count": 138
        }
      ]
    },
    {
      "cell_type": "code",
      "metadata": {
        "id": "v3jwrf2sKsss",
        "colab_type": "code",
        "colab": {
          "base_uri": "https://localhost:8080/",
          "height": 35
        },
        "outputId": "04b6cd53-26d4-4fb6-bf15-a6188524869b"
      },
      "source": [
        "#main diagonal of A\n",
        "np.einsum('ii->i',A)"
      ],
      "execution_count": 140,
      "outputs": [
        {
          "output_type": "execute_result",
          "data": {
            "text/plain": [
              "array([1, 2, 5])"
            ]
          },
          "metadata": {
            "tags": []
          },
          "execution_count": 140
        }
      ]
    },
    {
      "cell_type": "code",
      "metadata": {
        "id": "7ubcWwsdK3Vn",
        "colab_type": "code",
        "colab": {
          "base_uri": "https://localhost:8080/",
          "height": 35
        },
        "outputId": "31230919-e9b2-4455-b9f6-7a6d9206f877"
      },
      "source": [
        "#trace of A (sum of diagonal)\n",
        "np.einsum('ii',A)"
      ],
      "execution_count": 142,
      "outputs": [
        {
          "output_type": "execute_result",
          "data": {
            "text/plain": [
              "8"
            ]
          },
          "metadata": {
            "tags": []
          },
          "execution_count": 142
        }
      ]
    },
    {
      "cell_type": "code",
      "metadata": {
        "id": "il1DII7kLBFQ",
        "colab_type": "code",
        "colab": {
          "base_uri": "https://localhost:8080/",
          "height": 72
        },
        "outputId": "f0f66a9f-ca16-4a79-f83b-f5d24affa328"
      },
      "source": [
        "#matrix multiplication\n",
        "A @ B"
      ],
      "execution_count": 143,
      "outputs": [
        {
          "output_type": "execute_result",
          "data": {
            "text/plain": [
              "array([[ 2,  3,  1],\n",
              "       [ 4,  6,  2],\n",
              "       [10, 15,  5]])"
            ]
          },
          "metadata": {
            "tags": []
          },
          "execution_count": 143
        }
      ]
    },
    {
      "cell_type": "code",
      "metadata": {
        "id": "hFTtB6Q_LBAt",
        "colab_type": "code",
        "colab": {
          "base_uri": "https://localhost:8080/",
          "height": 72
        },
        "outputId": "ac32250e-67de-4380-e30e-720c2e6377fb"
      },
      "source": [
        "np.einsum('ij,jk->ik', A, B)"
      ],
      "execution_count": 152,
      "outputs": [
        {
          "output_type": "execute_result",
          "data": {
            "text/plain": [
              "array([[ 2,  3,  1],\n",
              "       [ 4,  6,  2],\n",
              "       [10, 15,  5]])"
            ]
          },
          "metadata": {
            "tags": []
          },
          "execution_count": 152
        }
      ]
    },
    {
      "cell_type": "code",
      "metadata": {
        "id": "AMZqpPSyLA74",
        "colab_type": "code",
        "colab": {
          "base_uri": "https://localhost:8080/",
          "height": 72
        },
        "outputId": "9ead37c9-2b9c-4c6f-996a-87cb274db032"
      },
      "source": [
        "#element-wise multiplication of A and B.T\n",
        "np.einsum('ij,ji->ij',A,B)"
      ],
      "execution_count": 156,
      "outputs": [
        {
          "output_type": "execute_result",
          "data": {
            "text/plain": [
              "array([[0, 1, 1],\n",
              "       [2, 2, 2],\n",
              "       [0, 0, 5]])"
            ]
          },
          "metadata": {
            "tags": []
          },
          "execution_count": 156
        }
      ]
    },
    {
      "cell_type": "code",
      "metadata": {
        "id": "0yrtRjuc2W40",
        "colab_type": "code",
        "colab": {
          "base_uri": "https://localhost:8080/",
          "height": 72
        },
        "outputId": "c7f8f916-6da4-4f87-8804-4b8f3f74767d"
      },
      "source": [
        "#matrix multiplication\n",
        "A @ B"
      ],
      "execution_count": 119,
      "outputs": [
        {
          "output_type": "execute_result",
          "data": {
            "text/plain": [
              "array([[ 2,  3,  1],\n",
              "       [ 5,  7,  2],\n",
              "       [10, 15,  5]])"
            ]
          },
          "metadata": {
            "tags": []
          },
          "execution_count": 119
        }
      ]
    },
    {
      "cell_type": "code",
      "metadata": {
        "id": "Emf-otAVABdV",
        "colab_type": "code",
        "colab": {}
      },
      "source": [
        ""
      ],
      "execution_count": null,
      "outputs": []
    }
  ]
}