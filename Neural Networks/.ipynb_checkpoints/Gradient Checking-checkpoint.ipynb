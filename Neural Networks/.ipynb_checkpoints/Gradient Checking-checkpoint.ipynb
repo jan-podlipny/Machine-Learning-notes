{
 "cells": [
  {
   "cell_type": "markdown",
   "metadata": {},
   "source": [
    "# Gradient Checking\n",
    "\n",
    "Its used to check for bugs when using Analytical Gradient inside backpropagation by using Numerical gradient\n",
    "\n",
    "$\\epsilon$ = $10^{-4}$ (good practical value, in theory ideal is infinitesimal)\n",
    "\n",
    "**Two-sided difference**\n",
    "$$\\frac{d}{d_\\Theta} \\approx \\frac{J(\\Theta + \\epsilon) - J(\\Theta - \\epsilon)}{2\\epsilon} $$\n",
    "\n",
    "**One-sided difference**\n",
    "\n",
    "$$\\frac{d}{d_\\Theta} \\approx \\frac{J(\\Theta + \\epsilon) - J(\\Theta) }{\\epsilon} $$\n",
    "\n",
    "\n",
    "**Parameter Vector**\n",
    "\n",
    "$\\Theta \\in R^{n}$ (E.g. $\\Theta$ is unrolled version (vector) of $\\Theta^{(1)},\\Theta^{(2)},\\Theta^{(3)})$\n",
    "\n",
    "$\\Theta = \\Theta_1,\\Theta_2,\\Theta_3,\\ldots,\\Theta_n$\n",
    "\n",
    "$$\\frac{\\partial}{\\partial\\Theta_1} J(\\Theta) \\approx  \\frac{J(\\Theta_1+\\epsilon,\\Theta_2,\\Theta_3, \\ldots, \\Theta_n) - J(\\Theta_1 - \\epsilon,\\Theta_2,\\Theta_3, \\ldots, \\Theta_n)}{2\\epsilon}$$\n",
    "\n",
    "$$\\frac{\\partial}{\\partial\\Theta_1} J(\\Theta) \\approx  \\frac{J(\\Theta_1,\\Theta_2+\\epsilon,\\Theta_3, \\ldots, \\Theta_n) - J(\\Theta_1,\\Theta_2-\\epsilon,\\Theta_3, \\ldots, \\Theta_n)}{2\\epsilon}$$\n",
    "\n",
    "$$\\frac{\\partial}{\\partial\\Theta_n} J(\\Theta) \\approx  \\frac{J(\\Theta_1,\\Theta_2,\\Theta_3, \\ldots, \\Theta_n  +\\epsilon) - J(\\Theta_1,\\Theta_2,\\Theta_3, \\ldots, \\Theta_n  -\\epsilon)}{2\\epsilon}$$"
   ]
  },
  {
   "cell_type": "markdown",
   "metadata": {},
   "source": [
    "Implementation note:\n",
    "- Implement backprop to compute **Dvec**(unrolled $D^{(1)},D^{(2)},D^{(3})$\n",
    "- Implement numerical gradient check to compute gradient approximation (gradApprox)\n",
    "- Make sure they give similar valus\n",
    "- Turn off gradient checking. Use backprop code for learning\n",
    "\n",
    "Important:\n",
    "- Be sure to disable gradient checking code before training classifier . If you run numerical gradient computation on every iteration of gradient descent( or in the inner loop of costFunction), code will run extremely slowly\n"
   ]
  },
  {
   "cell_type": "markdown",
   "metadata": {},
   "source": [
    "Python  mock-up code\n",
    "```python\n",
    "epsilon = 1e-4\n",
    "\n",
    "for i in range(n):\n",
    "  thetaPlus = theta;\n",
    "  thetaPlus[i] += epsilon;\n",
    "  thetaMinus = theta;\n",
    "  thetaMinus[i] -= epsilon;\n",
    "  gradApprox[i] = (J(thetaPlus) - J(thetaMinus))/(2*epsilon)\n",
    "```"
   ]
  },
  {
   "cell_type": "code",
   "execution_count": null,
   "metadata": {},
   "outputs": [],
   "source": []
  },
  {
   "cell_type": "code",
   "execution_count": null,
   "metadata": {},
   "outputs": [],
   "source": []
  },
  {
   "cell_type": "code",
   "execution_count": null,
   "metadata": {},
   "outputs": [],
   "source": []
  },
  {
   "cell_type": "code",
   "execution_count": null,
   "metadata": {},
   "outputs": [],
   "source": []
  },
  {
   "cell_type": "code",
   "execution_count": null,
   "metadata": {},
   "outputs": [],
   "source": []
  },
  {
   "cell_type": "code",
   "execution_count": null,
   "metadata": {},
   "outputs": [],
   "source": []
  }
 ],
 "metadata": {
  "kernelspec": {
   "display_name": "Python 3",
   "language": "python",
   "name": "python3"
  },
  "language_info": {
   "codemirror_mode": {
    "name": "ipython",
    "version": 3
   },
   "file_extension": ".py",
   "mimetype": "text/x-python",
   "name": "python",
   "nbconvert_exporter": "python",
   "pygments_lexer": "ipython3",
   "version": "3.7.1rc1"
  },
  "toc": {
   "base_numbering": 1,
   "nav_menu": {},
   "number_sections": true,
   "sideBar": true,
   "skip_h1_title": false,
   "title_cell": "Table of Contents",
   "title_sidebar": "Contents",
   "toc_cell": false,
   "toc_position": {},
   "toc_section_display": true,
   "toc_window_display": false
  },
  "varInspector": {
   "cols": {
    "lenName": 16,
    "lenType": 16,
    "lenVar": 40
   },
   "kernels_config": {
    "python": {
     "delete_cmd_postfix": "",
     "delete_cmd_prefix": "del ",
     "library": "var_list.py",
     "varRefreshCmd": "print(var_dic_list())"
    },
    "r": {
     "delete_cmd_postfix": ") ",
     "delete_cmd_prefix": "rm(",
     "library": "var_list.r",
     "varRefreshCmd": "cat(var_dic_list()) "
    }
   },
   "types_to_exclude": [
    "module",
    "function",
    "builtin_function_or_method",
    "instance",
    "_Feature"
   ],
   "window_display": false
  }
 },
 "nbformat": 4,
 "nbformat_minor": 2
}
