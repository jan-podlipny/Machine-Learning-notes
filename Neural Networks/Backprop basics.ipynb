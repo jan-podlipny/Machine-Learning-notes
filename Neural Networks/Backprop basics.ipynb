{
 "cells": [
  {
   "cell_type": "markdown",
   "metadata": {},
   "source": [
    "# Neural Networks as real-valued circuits"
   ]
  },
  {
   "cell_type": "markdown",
   "metadata": {},
   "source": [
    "**Single Gate in Circuit**"
   ]
  },
  {
   "cell_type": "code",
   "execution_count": 227,
   "metadata": {
    "scrolled": false
   },
   "outputs": [
    {
     "data": {
      "text/plain": [
       "-6"
      ]
     },
     "execution_count": 227,
     "metadata": {},
     "output_type": "execute_result"
    }
   ],
   "source": [
    "def forwardMultiplyGate(x,y):\n",
    "    \"Takes two real-valued inputs and computes x * y with the * gate\"\n",
    "    \n",
    "    return x * y\n",
    "forwardMultiplyGate(-2,3)"
   ]
  },
  {
   "cell_type": "markdown",
   "metadata": {},
   "source": [
    "1.Circuit has been provided with specific input values (-2,3)\n",
    "\n",
    "2.The circuit computes an output value (-6)\n",
    "\n",
    "**3.How tweak input slightly to increase output ?**\n",
    "\n",
    "options :\n",
    "\n",
    "    a) Numerical gradient\n",
    "    b) Analytical gradient"
   ]
  },
  {
   "cell_type": "markdown",
   "metadata": {},
   "source": [
    "**Numerical gradient (derivative)**\n",
    "\n",
    "\\begin{equation}\n",
    "  \\frac{\\partial f(x,y)}{\\partial x} = \\frac{f(x+h,y )  - f(x,y)}{h}\n",
    "\\end{equation}"
   ]
  },
  {
   "cell_type": "code",
   "execution_count": 228,
   "metadata": {},
   "outputs": [
    {
     "name": "stdout",
     "output_type": "stream",
     "text": [
      "Derivative with respect to x is 3.000000000064062 \n",
      "Derivative with respect to y is -2.0000000000131024\n"
     ]
    }
   ],
   "source": [
    "# input\n",
    "x, y = -2, 3\n",
    "# infinitesimal\n",
    "h = 0.00001\n",
    "\n",
    "out = forwardMultiplyGate(x,y)\n",
    "\n",
    "#calculate derivate with respect to x\n",
    "xph = x + h\n",
    "\n",
    "out2 = forwardMultiplyGate(xph,y)\n",
    "\n",
    "x_derivative =  (out2 - out) / h\n",
    "\n",
    "#calculate derivative with respect to y\n",
    "yph = y + h\n",
    "\n",
    "out3 = forwardMultiplyGate(yph,x)\n",
    "\n",
    "y_derivative = (out3 - out) / h\n",
    "\n",
    "print('Derivative with respect to x is {0} \\nDerivative with respect to y is {1}'.format(x_derivative,y_derivative))"
   ]
  },
  {
   "cell_type": "code",
   "execution_count": 229,
   "metadata": {},
   "outputs": [
    {
     "name": "stdout",
     "output_type": "stream",
     "text": [
      "Change of inputs by derivative to  \n",
      "x = -1.9699999999993594, y = 2.979999999999869 \n",
      "leads to increased output\n",
      "output = -5.870599999997832\n"
     ]
    }
   ],
   "source": [
    "step_size = 0.01\n",
    "\n",
    "x +=  step_size * x_derivative\n",
    "\n",
    "y += step_size * y_derivative\n",
    "\n",
    "out_new = forwardMultiplyGate(x,y)\n",
    "\n",
    "print('Change of inputs by derivative to  \\nx = {}, y = {} \\nleads to increased output\\noutput = {}'.format(x,y,out_new))"
   ]
  },
  {
   "cell_type": "markdown",
   "metadata": {},
   "source": [
    "**Numerical gradient is computationally expensive, because we need to compute circuit output as we tweak every input value independently by small amount.**\n",
    "\n",
    "**So complexity of evaluating gradient is linear to number of inputs**\n",
    "\n",
    "**Not practically usable to evaluate bigger and more mathematically complex networks**\n",
    "\n",
    "**Only gives approximations of gradient**"
   ]
  },
  {
   "cell_type": "markdown",
   "metadata": {},
   "source": [
    "**Analytical Gradient**\n",
    "\n",
    "\\begin{equation}\n",
    "\\frac{\\partial f(x,y)}{\\partial x} = \\frac{f(x+h,y) - f(x,y)}{h}\n",
    "= \\frac{(x+h)y - xy}{h}\n",
    "= \\frac{xy + hy - xy}{h}\n",
    "= \\frac{hy}{h}\n",
    "= y\n",
    "\\end{equation}\n",
    "\n",
    "**Gives exact gradient**\n",
    "\n",
    "**Only one pass-through**\n"
   ]
  },
  {
   "cell_type": "code",
   "execution_count": 230,
   "metadata": {},
   "outputs": [
    {
     "name": "stdout",
     "output_type": "stream",
     "text": [
      "Change of inputs by derivative to  \n",
      "x = -1.9699999999993594, y = 2.979999999999869 \n",
      "leads to increased output\n",
      "output = -5.870599999997832\n"
     ]
    }
   ],
   "source": [
    "x, y = -2, 3\n",
    "\n",
    "out = forwardMultiplyGate(x, y)\n",
    "\n",
    "x_gradient,y_gradient = y,x\n",
    "\n",
    "step_size = 0.01\n",
    "\n",
    "x +=  step_size * x_derivative\n",
    "\n",
    "y += step_size * y_derivative\n",
    "\n",
    "out_new = forwardMultiplyGate(x,y)\n",
    "\n",
    "print('Change of inputs by derivative to  \\nx = {}, y = {} \\nleads to increased output\\noutput = {}'.format(x,y,out_new))"
   ]
  },
  {
   "cell_type": "markdown",
   "metadata": {},
   "source": [
    "**In practice, NN libraries computes analytical gradient, but verifies implementation by comparing it to the numerical gradient**\n",
    "\n",
    "**Numerical gradient is expensive to compute, but easy to evaluate** \n",
    "\n",
    "vs. \n",
    "\n",
    "**Analytical gradient is efficient to compute, but may contain bugs at times**\n",
    "\n",
    "\n"
   ]
  },
  {
   "cell_type": "markdown",
   "metadata": {},
   "source": [
    "**Recursive case : Circuits with multiple gates**"
   ]
  },
  {
   "cell_type": "code",
   "execution_count": 231,
   "metadata": {},
   "outputs": [],
   "source": [
    "def forwardAddGate(a,b):\n",
    "    return a + b\n",
    "\n",
    "def forwardMultiplyGate(a,b):\n",
    "    return a * b"
   ]
  },
  {
   "attachments": {
    "image.png": {
     "image/png": "[encoded data removed]"
    }
   },
   "cell_type": "markdown",
   "metadata": {},
   "source": [
    "![image.png](attachment:image.png)"
   ]
  },
  {
   "cell_type": "markdown",
   "metadata": {},
   "source": [
    "\\begin{equation}\n",
    "f(x,y,z) = (x + y) z\n",
    "\\end{equation}"
   ]
  },
  {
   "cell_type": "markdown",
   "metadata": {},
   "source": [
    "\\begin{equation}\n",
    "f(q,z) = q z \\hspace{0.5in} \\implies \\hspace{0.5in} \\frac{\\partial f(q,z)}{\\partial q} = z, \\hspace{1in} \\frac{\\partial f(q,z)}{\\partial z} = q\n",
    "\\end{equation}\n",
    "\n",
    "\\begin{equation}\n",
    "q(x,y) = x + y \\hspace{0.5in} \\implies \\hspace{0.5in} \\frac{\\partial q(x,y)}{\\partial x} = 1 \\hspace{1in} \\frac{\\partial q(x,y)}{\\partial y} = 1\n",
    "\\end{equation}"
   ]
  },
  {
   "cell_type": "code",
   "execution_count": 232,
   "metadata": {},
   "outputs": [
    {
     "data": {
      "text/plain": [
       "-12"
      ]
     },
     "execution_count": 232,
     "metadata": {},
     "output_type": "execute_result"
    }
   ],
   "source": [
    "def forwardCircuit(x,y,z):\n",
    "    \n",
    "    q = forwardAddGate(x,y)\n",
    "    f = forwardMultiplyGate(q,z)\n",
    "    \n",
    "    return f \n",
    "\n",
    "x, y, z = -2, 5, -4\n",
    "\n",
    "\n",
    "f = forwardCircuit(x,y,z)\n",
    "f"
   ]
  },
  {
   "cell_type": "markdown",
   "metadata": {},
   "source": [
    "**Backpropagation**\n",
    "\n",
    "- use chain rule to compute gradient with respect to x and y\n",
    "    - Chain Rule:\n",
    "\\begin{equation}\n",
    "f(x) = h(g(x))\n",
    "\\end{equation}\n",
    "\n",
    "\\begin{equation}\n",
    "f'(x)= h'(g(x)) \\, g'(x)\n",
    "\\end{equation}\n"
   ]
  },
  {
   "cell_type": "code",
   "execution_count": 233,
   "metadata": {},
   "outputs": [
    {
     "data": {
      "text/plain": [
       "(-4, -4)"
      ]
     },
     "execution_count": 233,
     "metadata": {},
     "output_type": "execute_result"
    }
   ],
   "source": [
    "#initial conditions\n",
    "\n",
    "x, y, z = -2, 5, -4\n",
    "\n",
    "q = forwardAddGate(x,y)\n",
    "\n",
    "f = forwardMultiplyGate(q,z)\n",
    "\n",
    "#gradient of the multiply gate with respect to its inputs\n",
    "\n",
    "derivative_f_wrt_z = q\n",
    "derivative_f_wrt_q = z\n",
    "\n",
    "#derivative of ADD gate with respect to its inputs\n",
    "\n",
    "derivative_q_wrt_x = 1\n",
    "derivative_q_wrt_y = 1\n",
    "\n",
    "#chain rule\n",
    "derivative_f_wrt_x = derivative_q_wrt_x * derivative_f_wrt_q\n",
    "derivative_f_wrt_y = derivative_q_wrt_y * derivative_f_wrt_q\n",
    "\n",
    "derivative_f_wrt_x,derivative_f_wrt_y"
   ]
  },
  {
   "cell_type": "markdown",
   "metadata": {},
   "source": [
    "\\begin{equation}\n",
    "\\frac{\\partial f(q,z)}{\\partial x} = \\frac{\\partial q(x,y)}{\\partial x} \\frac{\\partial f(q,z)}{\\partial q}\n",
    "\\end{equation}"
   ]
  },
  {
   "cell_type": "code",
   "execution_count": 234,
   "metadata": {},
   "outputs": [
    {
     "data": {
      "text/plain": [
       "[-4, -4, 3]"
      ]
     },
     "execution_count": 234,
     "metadata": {},
     "output_type": "execute_result"
    }
   ],
   "source": [
    "#final gradient\n",
    "gradient_wtr_xyz = [derivative_f_wrt_x,derivative_f_wrt_y,derivative_f_wrt_z]\n",
    "gradient_wtr_xyz"
   ]
  },
  {
   "cell_type": "code",
   "execution_count": 235,
   "metadata": {
    "scrolled": true
   },
   "outputs": [
    {
     "name": "stdout",
     "output_type": "stream",
     "text": [
      "New inputs are x = -2.04(ov = 2),y = 4.96(ov = 5),z = -3.97(ov = -4) and theirs output is -11.5924\n"
     ]
    }
   ],
   "source": [
    "# let inputs respond to the force/tug\n",
    "step_size = 0.01\n",
    "\n",
    "x = x + step_size * derivative_f_wrt_x\n",
    "\n",
    "y = y + step_size * derivative_f_wrt_y\n",
    "\n",
    "z = z + step_size * derivative_f_wrt_z\n",
    "\n",
    "#Check if circuits improved\n",
    "q = forwardAddGate(x,y)\n",
    "\n",
    "f = forwardMultiplyGate(q,z)\n",
    "\n",
    "out_new = forwardCircuit(x,y,z)\n",
    "\n",
    "print('New inputs are x = {}(ov = 2),y = {}(ov = 5),z = {}(ov = -4) and theirs output is {}'.format(x,y,z,out_new))"
   ]
  },
  {
   "attachments": {
    "image.png": {
     "image/png": "[encoded data removed]"
    }
   },
   "cell_type": "markdown",
   "metadata": {},
   "source": [
    "![image.png](attachment:image.png)"
   ]
  },
  {
   "attachments": {
    "image.png": {
     "image/png": "[encoded data removed]"
    }
   },
   "cell_type": "markdown",
   "metadata": {},
   "source": [
    "![image.png](attachment:image.png)"
   ]
  },
  {
   "cell_type": "markdown",
   "metadata": {},
   "source": [
    "**Numerical gradient check**"
   ]
  },
  {
   "cell_type": "code",
   "execution_count": 236,
   "metadata": {
    "scrolled": true
   },
   "outputs": [
    {
     "name": "stdout",
     "output_type": "stream",
     "text": [
      "Numerical gradient check outputs:\n",
      "Derivative of x = -3.9999999999906777\n",
      "Derivative of y = -3.9999999999906777\n",
      "Derivative of z = 3.000000000010772\n",
      "Check if numerical gradient is equal to analytical gradient computed by backpropagation:\n",
      "True\n"
     ]
    }
   ],
   "source": [
    "# initial conditions\n",
    "x, y, z = -2, 5, -4\n",
    "\n",
    "#numerical gradient check\n",
    "h = 0.0001\n",
    "\n",
    "x_derivative = (forwardCircuit(x+h,y,z) - forwardCircuit(x,y,z)) / h\n",
    "\n",
    "y_derivative = (forwardCircuit(x,y+h,z) - forwardCircuit(x,y,z)) / h\n",
    "\n",
    "z_derivative = (forwardCircuit(x,y,z + h) - forwardCircuit(x,y,z)) / h\n",
    "\n",
    "num_gradient = [x_derivative,y_derivative,z_derivative]\n",
    "\n",
    "print('Numerical gradient check outputs:\\nDerivative of x = {}\\nDerivative of y = {}\\nDerivative of z = {}'\n",
    "      .format(num_gradient[0],num_gradient[1],num_gradient[2]))\n",
    "\n",
    "\n",
    "#check if it is same as analytical gradient computed with backpropagation\n",
    "check = gradient_wtr_xyz == [round(gradient) for gradient in num_gradient]\n",
    "print('Check if numerical gradient is equal to analytical gradient computed by backpropagation:\\n{}'.format(check))"
   ]
  },
  {
   "cell_type": "markdown",
   "metadata": {},
   "source": [
    "**Example ; Single Neuron**\n",
    "\n",
    "Consider 2-dimensional neuron that computes following function:\n",
    "\n",
    "\\begin{align}\n",
    "f(x,y,a,b,c) = \\sigma(ax + by + c )\n",
    "\\end{align}\n",
    "\n",
    "In this expression, $\\sigma$ is sigmoid function that squashes its input between 0 and 1. Very negative values are squashed towards 0 and positive values towards 1.\n",
    "\n",
    "Sigmoid function is defined as :\n",
    "\n",
    "\\begin{equation}\n",
    "\\sigma(x) = \\frac{1}{1 + e^{-x}}\n",
    "\\end{equation}\n",
    "\n",
    "and its gradient is:\n",
    "\\begin{equation}\n",
    "\\frac{\\partial \\sigma(x)}{\\partial x} = \\sigma(x) (1 - \\sigma(x))\n",
    "\\end{equation}"
   ]
  },
  {
   "cell_type": "code",
   "execution_count": 237,
   "metadata": {},
   "outputs": [],
   "source": [
    "import numpy as np\n",
    "import matplotlib.pyplot as plt\n",
    "%matplotlib inline"
   ]
  },
  {
   "cell_type": "code",
   "execution_count": 238,
   "metadata": {
    "scrolled": true
   },
   "outputs": [
    {
     "data": {
      "image/png": "[encoded data removed]",
      "text/plain": [
       "<Figure size 432x288 with 1 Axes>"
      ]
     },
     "metadata": {
      "needs_background": "light"
     },
     "output_type": "display_data"
    }
   ],
   "source": [
    "sigmoid_f = lambda x : 1/(1+np.exp(-x))\n",
    "sigmoid_gradient = lambda x : sigmoid_f(x)*(1-sigmoid_f(x))\n",
    "\n",
    "x = np.linspace(-10,10,500)\n",
    "fig, ax = plt.subplots()\n",
    "#ax.set_xticks(, minor=False)\n",
    "ax.set_yticks(np.arange(0,1.1,step = 0.1))\n",
    "ax.set_xticks(range(-10,11), minor=False)\n",
    "plt.plot(x,sigmoid_f(x),'b',label = 'Sigmoid')\n",
    "plt.plot(x,sigmoid_gradient(x),'g',label = 'Derivative of sigmoid')\n",
    "plt.legend(loc=\"best\")\n",
    "x_middle = len(ax.get_xticklabels())//2\n",
    "ax.get_xticklabels()[x_middle].set_color(\"red\")\n",
    "ax.get_yticklabels()[5].set_color(\"red\")\n",
    "ax.get_ygridlines()[5].set_linewidth(1)\n",
    "ax.get_ygridlines()[5].set_color('black')\n",
    "ax.get_ygridlines()[5].set_linestyle('dashed')\n",
    "ax.get_xgridlines()[x_middle].set_linewidth(1)\n",
    "ax.get_xgridlines()[x_middle].set_color('black')\n",
    "ax.get_xgridlines()[x_middle].set_linestyle('dashed')\n",
    "plt.xlabel(\"x\")\n",
    "plt.ylabel(\"sigmoid\")\n",
    "plt.grid(True)\n",
    "plt.show()\n",
    "\n"
   ]
  },
  {
   "cell_type": "code",
   "execution_count": 452,
   "metadata": {},
   "outputs": [],
   "source": [
    "#Every unit corresponds to a wire in the diagrams (connections between neurons)\n",
    "class Unit(object):\n",
    "    \"\"\"Stores value carried during forward pass and gradient that flows back through it in backward pass\"\"\"\n",
    "    def __init__(self,value,grad):\n",
    "        # value computed in the forward pass\n",
    "        self.value = value\n",
    "        # derivative of circuit output with respect to (w.r.t.) this unit, computed in backward pass\n",
    "        self.grad = grad\n",
    "    def __str__(self):\n",
    "            return 'Value ={} Gradient = {}'.format(self.value,self.grad)"
   ]
  },
  {
   "cell_type": "code",
   "execution_count": 453,
   "metadata": {},
   "outputs": [],
   "source": [
    "class multiplyGate(object):\n",
    "        def forward(self,u0,u1):\n",
    "            'Store pointers to input Units u0 and u1 and outputs unit utop'\n",
    "            self.u0 = u0\n",
    "            self.u1 = u1\n",
    "            self.utop = Unit(u0.value * u1.value,0.0)\n",
    "            return self.utop\n",
    "    \n",
    "        def backward(self):\n",
    "            \"\"\"Takes the gradient in output unit and chain it with the local gradients,\n",
    "            which we derived from multiplyGate before\"\"\"\n",
    "            self.u0.grad += self.u1.value * self.utop.grad\n",
    "            self.u1.grad += self.u0.value * self.utop.grad\n",
    "        "
   ]
  },
  {
   "cell_type": "code",
   "execution_count": 454,
   "metadata": {},
   "outputs": [],
   "source": [
    "class addGate(object):\n",
    "    def forward(self,u0,u1):\n",
    "        self.u0 = u0\n",
    "        self.u1 = u1\n",
    "        self.utop = Unit(u0.value + u1.value,0.0)\n",
    "        return self.utop\n",
    "    \n",
    "    def backward(self):\n",
    "        \"\"\"Add gate derivative w.r.t to its inputs (derivative = 1)\"\"\"\n",
    "        self.u0.grad += 1 * self.utop.grad\n",
    "        self.u1.grad += 1 * self.utop.grad"
   ]
  },
  {
   "cell_type": "code",
   "execution_count": 455,
   "metadata": {},
   "outputs": [],
   "source": [
    "class sigmoidGate(object):\n",
    "    \n",
    "    def __init__(self):\n",
    "        self.sigmoid = lambda x : (1 / (1 + np.exp(-x)))\n",
    "        \n",
    "    def forward(self,u0):\n",
    "        self.u0 = u0\n",
    "        self.utop = Unit(self.sigmoid(self.u0.value), 0.0)\n",
    "        return self.utop\n",
    "    \n",
    "    def backward(self):\n",
    "        sig = self.sigmoid(self.u0.value)\n",
    "        self.u0.grad += (sig * (1 - sig)) * self.utop.grad"
   ]
  },
  {
   "cell_type": "code",
   "execution_count": 325,
   "metadata": {},
   "outputs": [
    {
     "name": "stdout",
     "output_type": "stream",
     "text": [
      "Circuit output:Value =0.8807970779778823 Gradient = 0.0\n"
     ]
    }
   ],
   "source": [
    "#create input units\n",
    "a = Unit(1.0,0.0)\n",
    "b = Unit(2.0,0.0)\n",
    "c = Unit(-3.0,0.0)\n",
    "x = Unit(-1.0,0.0)\n",
    "y = Unit(3.0,0.0)\n",
    "\n",
    "#create gates\n",
    "mulg0 = multiplyGate()\n",
    "mulg1 = multiplyGate()\n",
    "addg0 = addGate()\n",
    "addg1 = addGate()\n",
    "sg0 = sigmoidGate()\n",
    "\n",
    "\n",
    "\n",
    "#forward pass\n",
    "\n",
    "def forwardNeuron():\n",
    "    global s,ax,by,axpby,axpbypc\n",
    "    ax = mulg0.forward(a,x) # a*x = -1\n",
    "    by = mulg1.forward(b,y) # b*y = 6\n",
    "    axpby = addg0.forward(ax,by) # a*x + b*y =5\n",
    "    axpbypc = addg1.forward(axpby,c) # a*x + b*y + c = 2\n",
    "    s = sg0.forward(axpbypc) # sigmoid(a*x + b*y + c) = 0.88\n",
    "\n",
    "forwardNeuron()    \n",
    "print('Circuit output:{}'.format(s))"
   ]
  },
  {
   "cell_type": "code",
   "execution_count": 326,
   "metadata": {},
   "outputs": [
    {
     "name": "stdout",
     "output_type": "stream",
     "text": [
      "Value =1.0 Gradient = -0.10499358540350662\n"
     ]
    }
   ],
   "source": [
    "#Compute gradient\n",
    "s.grad = 1.0 # Sets gradient of the last unit to be 1.0, \n",
    "             #if it was not all gradients would be computed as zero due to multiplication in chain rule\n",
    "\n",
    "sg0.backward()\n",
    "addg1.backward()\n",
    "addg0.backward()\n",
    "mulg1.backward()\n",
    "mulg0.backward()\n",
    "\n",
    "print(a)\n",
    "gradients_backprop = [a.grad,b.grad,c.grad,x.grad,y.grad]"
   ]
  },
  {
   "cell_type": "code",
   "execution_count": 327,
   "metadata": {},
   "outputs": [
    {
     "name": "stdout",
     "output_type": "stream",
     "text": [
      "Circuit output:Value =0.8825501816218984 Gradient = 0.0\n"
     ]
    }
   ],
   "source": [
    "#Change inputs in response to the computed gradients\n",
    "\n",
    "step_size = 0.01\n",
    "a.value += step_size * a.grad\n",
    "b.value += step_size * b.grad\n",
    "c.value += step_size * c.grad\n",
    "x.value += step_size * x.grad\n",
    "y.value += step_size * y.grad\n",
    "\n",
    "forwardNeuron()\n",
    "print('Circuit output:{}'.format(s))"
   ]
  },
  {
   "cell_type": "code",
   "execution_count": 328,
   "metadata": {},
   "outputs": [
    {
     "name": "stdout",
     "output_type": "stream",
     "text": [
      "Check if numerical gradient is equal to analytical gradient computed by backpropagation:\n",
      "True\n",
      "[-0.10499358540350662, 0.31498075621051985, 0.10499358540350662, 0.10499358540350662, 0.20998717080701323]\n",
      "[-0.10499758359205913, 0.3149447748351797, 0.10498958734506125, 0.10498958734506125, 0.2099711788272618]\n"
     ]
    }
   ],
   "source": [
    "#Check correctnes of backpropagation by checking numerical gradient\n",
    "\n",
    "def forwardCircuitFast(a,b,c,x,y):\n",
    "    return 1 / (1 + np.exp( - (a*x + b*y +c)))\n",
    "\n",
    "a, b, c, x, y = 1, 2, -3, -1, 3\n",
    "h = 0.0001\n",
    "\n",
    "a_grad = (forwardCircuitFast(a + h,b,c,x,y) - forwardCircuitFast(a,b,c,x,y)) / h\n",
    "b_grad = (forwardCircuitFast(a,b + h,c,x,y) - forwardCircuitFast(a,b,c,x,y)) / h\n",
    "c_grad = (forwardCircuitFast(a,b,c + h,x,y) - forwardCircuitFast(a,b,c,x,y)) / h\n",
    "x_grad = (forwardCircuitFast(a,b,c,x + h,y) - forwardCircuitFast(a,b,c,x,y)) / h\n",
    "y_grad = (forwardCircuitFast(a,b,c,x,y + h) - forwardCircuitFast(a,b,c,x,y)) / h\n",
    "\n",
    "num_gradient_2 = [a_grad,b_grad,c_grad,x_grad,y_grad]\n",
    "\n",
    "#check if it is same as analytical gradient computed with backpropagation\n",
    "check = [round(gradient) for gradient in gradients_backprop] == [round(gradient) for gradient in num_gradient_2]\n",
    "print('Check if numerical gradient is equal to analytical gradient computed by backpropagation:\\n{}'.format(check))\n",
    "print(gradients_backprop)\n",
    "print(num_gradient_2)"
   ]
  },
  {
   "cell_type": "markdown",
   "metadata": {},
   "source": [
    "**Backpropagation practice**"
   ]
  },
  {
   "cell_type": "code",
   "execution_count": 329,
   "metadata": {},
   "outputs": [],
   "source": [
    "dx = 1.0\n",
    "\n",
    "x = a * b\n",
    "da = b * dx\n",
    "db = a * dx"
   ]
  },
  {
   "cell_type": "code",
   "execution_count": 330,
   "metadata": {},
   "outputs": [],
   "source": [
    "x = a + b\n",
    "da = 1.0 * dx\n",
    "db = 1.0 * dx"
   ]
  },
  {
   "cell_type": "code",
   "execution_count": 331,
   "metadata": {},
   "outputs": [],
   "source": [
    "#lets compute  x = (a + b + c) in two steps\n",
    "q = a + b #gate 1\n",
    "x = q + c #gate 2\n",
    "\n",
    "dc = 1.0 * dx #backprop gate 2\n",
    "dq = 1.0 * dx\n",
    "\n",
    "da = 1.0 * dq #backprop gate 1\n",
    "db = 1.0 * dq"
   ]
  },
  {
   "cell_type": "code",
   "execution_count": 332,
   "metadata": {},
   "outputs": [],
   "source": [
    "x = a + b + c\n",
    "\n",
    "da = 1.0 * dx\n",
    "db = 1.0 * dx\n",
    "dc = 1.0 * dx"
   ]
  },
  {
   "cell_type": "code",
   "execution_count": 333,
   "metadata": {},
   "outputs": [],
   "source": [
    "x = a * b + c\n",
    "\n",
    "da = b * dx\n",
    "db = a * dx\n",
    "dc = 1.0 * dx\n",
    "\n",
    "q = a * b\n",
    "\n",
    "x = q + c\n",
    "\n",
    "dq = da * db"
   ]
  },
  {
   "cell_type": "code",
   "execution_count": 334,
   "metadata": {},
   "outputs": [],
   "source": [
    "# neuron in two steps\n",
    "sigmoid = lambda x : (1 / (1 + np.exp(-x)))\n",
    "\n",
    "q = a * x + b*y + c\n",
    "f = sigmoid(q)\n",
    "\n",
    "#now backward pass, we are given df and:\n",
    "df = 1\n",
    "dq = (f* (1-f))*df\n",
    "#now chain it to its inputs\n",
    "da = x * dq\n",
    "dx = a * dq\n",
    "db = y * dq\n",
    "dy = b * dq\n",
    "dc = 1 * dq"
   ]
  },
  {
   "cell_type": "code",
   "execution_count": 335,
   "metadata": {},
   "outputs": [],
   "source": [
    "x = a * a # value a is flowing into multiplyGate, but it gets split and it both become inputs and backward flow \n",
    "          # of gradients always adds up\n",
    "\n",
    "da  = a * dx # gradient from first branch\n",
    "da += a * dx # now add gradient from second branch\n",
    "\n",
    "#short form\n",
    "\n",
    "da = 2 * a * dx"
   ]
  },
  {
   "cell_type": "markdown",
   "metadata": {},
   "source": [
    "$f(a) = a^2$\n",
    "\n",
    "its derivative (power rule) : \n",
    "$\\frac{\\partial f(a)}{\\partial a} = 2a$ \n",
    "\n",
    "which is exactly same as being two inputs to a gate"
   ]
  },
  {
   "cell_type": "code",
   "execution_count": 336,
   "metadata": {},
   "outputs": [],
   "source": [
    "x = a*a + b*b + c*c\n",
    "\n",
    "da = 2*a * dx\n",
    "db = 2*b * dx\n",
    "dc = 2*c * dx"
   ]
  },
  {
   "cell_type": "code",
   "execution_count": null,
   "metadata": {},
   "outputs": [],
   "source": []
  },
  {
   "cell_type": "code",
   "execution_count": 337,
   "metadata": {},
   "outputs": [],
   "source": [
    "d = 2\n",
    "\n",
    "x = np.power(((a * b + c) * d),2)"
   ]
  },
  {
   "cell_type": "code",
   "execution_count": 338,
   "metadata": {},
   "outputs": [],
   "source": [
    "#split expression into manageable chunks of simpler expressions and then chain them with chain rule\n",
    "x1 = a * b + c\n",
    "x2 = x1 * d\n",
    "x = x2 * x2\n",
    "\n",
    "#now we go backwards in backprop\n",
    "\n",
    "dx2 = 2 * x2 * dx #backprop into x2\n",
    "dd = x1 * dx2     #backprop into d\n",
    "dx1 = d * dx2    #backprop into x1\n",
    "da = b * dx1\n",
    "db = a * dx1\n",
    "dc = 1.0 * dx1"
   ]
  },
  {
   "cell_type": "code",
   "execution_count": 339,
   "metadata": {},
   "outputs": [],
   "source": [
    "x = 1.0/a #division\n",
    "da = -1.0 /(a*a)"
   ]
  },
  {
   "cell_type": "code",
   "execution_count": 340,
   "metadata": {},
   "outputs": [],
   "source": [
    "x = (a + b)/(c + d)\n",
    "#decompose into simpler expressions\n",
    "x1 = a + b\n",
    "x2 = c + d\n",
    "x3 = 1.0 / x2 \n",
    "x = x1 * x3 # equivalent to above\n",
    "#backpropagation (dont forget reverse order)\n",
    "\n",
    "dx1 = x3 * dx\n",
    "dx3 = x1 * dx\n",
    "dx2 = (-1.0 / (x2*x2)) * dx3 #local gradient as shown above, and chain rule\n",
    "da = 1.0 * dx1\n",
    "db = 1.0 * dx1\n",
    "dc = 1.0 * dx2\n",
    "dd = 1.0 * dx2\n"
   ]
  },
  {
   "cell_type": "markdown",
   "metadata": {},
   "source": [
    "**Process:**\n",
    "\n",
    "- Break down expressions\n",
    "- do the forward pass\n",
    "- for every variable derive its gradient as we go backwards one by one ,apply local gradient and chain them together"
   ]
  },
  {
   "cell_type": "code",
   "execution_count": 352,
   "metadata": {},
   "outputs": [],
   "source": [
    "x = lambda a,b : np.maximum(a,b) # maximum function passes on the value of the largest input and ignores the other ones\n",
    "                    # gate acts as simple switch, based on which input had the highest value during forward pass\n",
    "                    # other inputs will have zero gradient\n",
    "\n",
    "da = lambda x : 1.0 * dx if a == x else 0.0\n",
    "db = lambda x : 1.0 * dx if b == x else 0.0\n"
   ]
  },
  {
   "cell_type": "code",
   "execution_count": 353,
   "metadata": {},
   "outputs": [],
   "source": [
    "#ReLu - Rectified Linear unit\n",
    "x = np.maximum(a,0)\n",
    "da = lambda x : 1.0 * dx if a > 0 else 0.0\n",
    "\n",
    "#gate passes value through if its larger than 0 , or stops the flow and sets it to zero \n",
    "#In the backward pass the gate will pass on the gradient from top if it was activated during forward pass,\n",
    "# or if the original input was below zero , it will stop the gradient flow"
   ]
  },
  {
   "cell_type": "markdown",
   "metadata": {},
   "source": [
    "**Conclusion:**\n",
    "\n",
    "- We can feed some input through arbitrarily complex real-valued circuit \n",
    "- Tug at the end of circuit with some force\n",
    "- Backpropagation will distribute that tug through entire circuit all the way back to inputs\n",
    "   \n",
    "\n"
   ]
  },
  {
   "cell_type": "markdown",
   "metadata": {},
   "source": [
    "# Machine Learning"
   ]
  },
  {
   "cell_type": "markdown",
   "metadata": {},
   "source": [
    "**Binary Classification**\n",
    "\n",
    "\n",
    "Simple linear classifier:\n",
    "\n",
    "$f(x, y) = ax + by + c$\n",
    "\n",
    "$c =$ bias term\n",
    "\n",
    "$x$ and $y$ are inputs(2-D vector) and $a,b,c$ are parameters of function that we want to learn.\n",
    "\n",
    "Process of Stochaistic Gradient Descent on Neural Networks:\n",
    "\n",
    "- 1. Select random datapoint and feed it through the circuit\n",
    "- 2. We will interpret the output of the circuit as a confidence that the datapoint has class +1 \n",
    "    - i.e. very high values = circuit is very certain datapoint has class +1, and very low values = circuit is certain that datapoint has class -1\n",
    "\n",
    "- 3. We will measure how well the prediction alligns with the provided labels.\n",
    "        - Intuitively, for example, if a positive example scores very low, we will want to tug in into positive direction on the circuit, demanding that it should output higher value for this datapoint.\n",
    "- 4. The circuit will take the tug and backpropagate it to compute tugs on the inputs $a, b, c, x, y$\n",
    "- 5. Since we thinkg of $x,y$ as fixed datapoints, we will ignore the pull on $x,y$\n",
    "- 6. On the other hand , we will take the parameters a,b,c and make them respond to their tug (we will perform parameter update). This will make it so that circuit will output slightly higher score on this particular datapoint in the future\n",
    "- 7. Iterate! Go back to step 1.\n",
    "        \n",
    "**As far as circuit is concerned, $a,b,c,x,y$ are all made up of the same stuff**\n",
    "- However, after the backward pass is complete , we ignore all changes on datapoints $x,y$ and keep swapping them in and out as we iterate over examples in the dataset\n",
    "- On the other hand, we keep parameters $a,b,c$ around and keep tugging on them every time we sample a datapoint.\n",
    "- Over time, the pulls on these parameters will tune these values in such way, that the function outputs high scores for positive examples and low scores for negative examples.\n"
   ]
  },
  {
   "cell_type": "markdown",
   "metadata": {},
   "source": [
    "**Learning a Support Vector Machine**\n",
    "\n",
    "Support Vector Machine \"Force Specification\"\n",
    "\n",
    "- If we feed a positive datapoint through the SVM circuit, and the output value is less then $1$, pull on the circuit with force $+1$.This is positive example, so we want the score to be higher for it.\n",
    "- Conversely, if we feed it a negative datapoint through the SVM circuit, and the output value is greater then $-1$, then the circuit is giving then the circuit is giving datapoint dangerously high score >> Pull on the circuit downwards with force $-1$\n",
    "- In addition to the pulls above, always add a small amount of pull on the parameters $a,b$(not on $c$!), that pulls them towards zero. You can think of both $a,b$ as being attached to physical spring that is attached at zero. Just as with physical spring, this will make the pull proportional to the value of each $a,b$. For example if $a$ becomes very high, it will experience a strong pull of magnitude $|a|$ back towards zero. This pull is **Regularization** and it ensures that neither of our parameters gets disproportionally large.\n",
    "    - This would be undesirable because both $a,b$ gets multiplied to the input features $x,y$, so if either of them is too high, our classifier would be overly sensitive to this features. This is not nice property, because features can be often noisy in practice, so we want our classifier to change relatively smoothly if they wiggle around.\n",
    "\n",
    "\n",
    "Concrete example\n",
    "\n",
    "vector   -> label\n",
    "\n",
    "[1.2, 0.7] -> +1\n",
    "\n",
    "[-0.3, 0.5] -> -1\n",
    "\n",
    "[-3, -1] -> +1\n",
    "\n",
    "[0.1, 1.0] -> -1\n",
    "\n",
    "[3.0, 1.1] -> -1\n",
    "\n",
    "[2.1, -3] -> +1\n",
    "\n",
    "random parameter setting: $a = 1 ,  b = -2 ,  c = -1$\n",
    "\n",
    "data point = $[1.2,0.7]$\n",
    "\n",
    "SVM will compute $1 \\cdot 1.2 + (-2) \\cdot 0.7 - 1 = -1.2$\n",
    "- this point is labeled as $+1$ in the training data , so we want the score be higher than $1$.\n",
    "    - The gradient on top of the circuit will thus be positive $+1$, which will backpropagate to $a,b,c$.\n",
    "    - Additionaly, there will also be reguralization pull on $a$ of $-1$ (to make it smaller) and reguralization pull on $b$ of $+2$ to make it larger, toward zero.\n",
    "\n",
    "Supposes that instead we fed another datapoint SVM:\n",
    "\n",
    "data point = $[-0.3,0.5]$ >>> $1 \\cdot -0.3 + (-2) \\cdot 0.5 - 1 = -2.3$\n",
    "- Label of this datapoint is $-1$ and since $-2.3$ is smaller then $-1$,we see that according to our force specification the SVM should be happy: The computed score is very negative, consistent with the negative labe of this example.\n",
    "    - There will be no pull at the end of the circuit(i.e. its zero), since there are no changes necessary\n",
    "    - However, there will still be the reguralization pull on $a$ of $-1$ and on $b$ of $2$\n"
   ]
  },
  {
   "cell_type": "code",
   "execution_count": 650,
   "metadata": {},
   "outputs": [],
   "source": [
    "#A circuit: it takes 5 Units(x,y,a,b,c) and outputs single Unit\n",
    "#It can also compute gradient w.r.t. its inputs\n",
    "\n",
    "class Circuit():\n",
    "    \"\"\"Computes (a*x + b*y + c) and gradient\"\"\"\n",
    "    def __init__(self):\n",
    "        \"\"\"Create some gates\"\"\"\n",
    "        self.mulg0 = multiplyGate()\n",
    "        self.mulg1 = multiplyGate()\n",
    "        self.addg0 = addGate()\n",
    "        self.addg1 = addGate()\n",
    "        \n",
    "    def forward(self,x,y,a,b,c):\n",
    "        self.ax = self.mulg0.forward(a,x) #a*x\n",
    "        self.by = self.mulg1.forward(b,y) #b*y\n",
    "        self.axpby = self.addg0.forward(self.ax,self.by) #a*x + b*y\n",
    "        self.axpbypc = self.addg1.forward(self.axpby,c) # (a*x + b*y) + c\n",
    "        return self.axpbypc\n",
    "    \n",
    "    def backward(self,gradient_top):\n",
    "        \"\"\"Takes pull from above\"\"\"\n",
    "        self.axpbypc.grad = gradient_top\n",
    "        self.addg1.backward() # sets gradient in axpby and c\n",
    "        self.addg0.backward() # sets gradient in ax and by\n",
    "        self.mulg1.backward() # sets gradient in b and y\n",
    "        self.mulg0.backward() # sets gradient in a and x"
   ]
  },
  {
   "cell_type": "code",
   "execution_count": 669,
   "metadata": {},
   "outputs": [],
   "source": [
    "class SVM():\n",
    "    \"\"\"SVM class\"\"\"\n",
    "    def __init__(self):\n",
    "        \"\"\"random initial parameters\"\"\"\n",
    "        self.a = Unit(1.0,0.0)\n",
    "        self.b = Unit(-2.0,0.0)\n",
    "        self.c = Unit(-1.0,0.0)\n",
    "        \n",
    "        self.circuit = Circuit()\n",
    "    \n",
    "    def values(self):\n",
    "        return self.a.value,self.b.value,self.c.value\n",
    "    \n",
    "    def forward(self,x,y):\n",
    "        \"\"\"Expects x and y to be Units\"\"\"\n",
    "        self.unit_out = self.circuit.forward(x, y, self.a, self.b, self.c)\n",
    "        return self.unit_out\n",
    "    \n",
    "    \n",
    "    def backward(self,label):\n",
    "        \"\"\"label is +1 or -1\"\"\"\n",
    "        \n",
    "        #reset pulls on a,b,c\n",
    "        self.a.grad = 0.0\n",
    "        self.b.grad = 0.0\n",
    "        self.c.grad = 0.0\n",
    "        label = label\n",
    "        \n",
    "        #compute the pull based on what circuit output was\n",
    "        pull = 0.0\n",
    "        \n",
    "        if (label == 1 and self.unit_out.value < 1): \n",
    "            pull = 1  # score was too low: pull up\n",
    "            \n",
    "        elif (label == -1 and self.unit_out.value > -1):\n",
    "            pull = -1  # score was too high for positive example : pull down\n",
    "            \n",
    "        self.circuit.backward(pull) # writes gradient into x,y,a,b,c\n",
    "        \n",
    "        #add regularization pull for parameters: towards zero and proportional to value\n",
    "        self.a.grad += -self.a.value\n",
    "        self.b.grad += -self.b.value\n",
    "\n",
    "    \n",
    "    def learnFrom(self,x,y,label):\n",
    "        self.forward(x,y) # forward pass (set .value in all Units)\n",
    "        self.backward(label) # backward pass (set .grad in all Units)\n",
    "        self.parameterUpdate() # parameters responds to tug\n",
    "    def parameterUpdate(self):\n",
    "        step_size = 0.01\n",
    "        self.a.value += step_size * self.a.grad\n",
    "        self.b.value += step_size * self.b.grad\n",
    "        self.c.value += step_size * self.c.grad\n",
    "    "
   ]
  },
  {
   "cell_type": "code",
   "execution_count": 670,
   "metadata": {},
   "outputs": [],
   "source": [
    "#Train SVM with Stochastic Gradient Descent\n",
    "\n",
    "data, labels = [], []\n",
    "data.append([1.2,0.7]);labels.append(1)\n",
    "data.append([-0.3, -0.5]);labels.append(-1)\n",
    "data.append([3.0, 0.1]);labels.append(1)\n",
    "data.append([-0.1, -1.0]);labels.append(-1)\n",
    "data.append([-1.0, 1.1]);labels.append(-1)\n",
    "data.append([2.1, -3]);labels.append(1)"
   ]
  },
  {
   "cell_type": "code",
   "execution_count": 697,
   "metadata": {},
   "outputs": [
    {
     "name": "stdout",
     "output_type": "stream",
     "text": [
      "training accuracy at iter 0 : 0.6666666666666666\n",
      "training accuracy at iter 25 : 0.6666666666666666\n",
      "training accuracy at iter 50 : 0.8333333333333334\n",
      "training accuracy at iter 75 : 0.8333333333333334\n",
      "training accuracy at iter 100 : 0.8333333333333334\n",
      "training accuracy at iter 125 : 0.8333333333333334\n",
      "training accuracy at iter 150 : 0.8333333333333334\n",
      "training accuracy at iter 175 : 0.8333333333333334\n",
      "training accuracy at iter 200 : 0.8333333333333334\n",
      "training accuracy at iter 225 : 0.8333333333333334\n",
      "training accuracy at iter 250 : 0.8333333333333334\n",
      "training accuracy at iter 275 : 0.8333333333333334\n",
      "training accuracy at iter 300 : 0.8333333333333334\n",
      "training accuracy at iter 325 : 0.8333333333333334\n",
      "training accuracy at iter 350 : 0.8333333333333334\n",
      "training accuracy at iter 375 : 0.8333333333333334\n"
     ]
    }
   ],
   "source": [
    "svm = SVM()\n",
    "\n",
    "def evalTrainingAccuracy():\n",
    "    \"\"\"function that evaluates training accuracy\"\"\"\n",
    "    \n",
    "    num_correct = 0\n",
    "    \n",
    "    for feature,label in zip(data,labels):\n",
    "        x = Unit(feature[0],0.0)\n",
    "        y = Unit(feature[1],0.0)\n",
    "        true_label = label\n",
    "        #see if prediction matches provided label \n",
    "        predicted_label =  1 if svm.forward(x,y).value > 0 else -1\n",
    "        if predicted_label == true_label:\n",
    "            num_correct += 1\n",
    "    return num_correct / len(data)\n",
    "\n",
    "#learning loop\n",
    "import random\n",
    "import math\n",
    "\n",
    "def learning(n_iter):\n",
    "    for iteration in range(0,n_iter):\n",
    "        #pick random datapoint\n",
    "        i = math.floor(random.random() * len(data))\n",
    "        x = Unit(data[i][0],0.0)\n",
    "        y = Unit(data[i][1],0.0)\n",
    "        label = labels[i]\n",
    "        svm.learnFrom(x,y,label)\n",
    "    \n",
    "        if iteration % 25 == 0: #every 10 iterations\n",
    "            print('training accuracy at iter {} : {}'.format(iteration,evalTrainingAccuracy()))\n",
    "            #print('a = {}, b = {}, c = {}'.format(*svm.values()))\n",
    "            \n",
    "learning(400)"
   ]
  },
  {
   "cell_type": "markdown",
   "metadata": {},
   "source": [
    "**Generalizing the SVM into a Neural Network**\n",
    "\n",
    "\n",
    "2-layer Neural Network for binary classification"
   ]
  },
  {
   "cell_type": "code",
   "execution_count": 701,
   "metadata": {},
   "outputs": [],
   "source": [
    "#assume inputs x,y\n",
    "\n",
    "# n1 = np.maximum(0,a1*x + b1*y + c1) #activation of first hidden neuron\n",
    "# n2 = np.maximum(0,a2*x + b2*y + c2) #2nd neuron\n",
    "# n3 = np.maximum(0,a3*x + b3*y + c3) #3rd neuron\n",
    "\n",
    "# score = a4*n1 +b4*n2 + c4*n3 +d4 # score"
   ]
  },
  {
   "cell_type": "markdown",
   "metadata": {},
   "source": [
    "The specification above is 2-layer Neural Network with 3 hidden neurons(n1,n2,n3), that uses Rectified Linear Unit(ReLu)\n",
    "            non-linearity on each hidden neuron. As you can see, there are now several parameters involved, which means that our classifier is more complex and can represent more intricate decision boundaries than just a simple linear decision rule such as SVM. Another way to think about it is that every one of three hidden neurons is a linear classifier and now we are putting an extra linear classifier on top of that"
   ]
  },
  {
   "cell_type": "code",
   "execution_count": 750,
   "metadata": {},
   "outputs": [],
   "source": [
    "#random initial parameters\n",
    "\n",
    "a1 =  random.random() - 0.5 # random number between -0.5 and 0.5\n",
    "b1 =  random.random() - 0.5\n",
    "c1 =  random.random() - 0.5\n",
    "a2 =  random.random() - 0.5 # random number between -0.5 and 0.5\n",
    "b2 =  random.random() - 0.5\n",
    "c2 =  random.random() - 0.5\n",
    "a3 =  random.random() - 0.5 # random number between -0.5 and 0.5\n",
    "b3 =  random.random() - 0.5\n",
    "c3 =  random.random() - 0.5\n",
    "a4 =  random.random() - 0.5 # random number between -0.5 and 0.5\n",
    "b4 =  random.random() - 0.5\n",
    "c4 =  random.random() - 0.5\n",
    "d4 = random.random() - 0.5\n",
    "\n",
    "for n_iter in range(0,400):\n",
    "    #pick random datapoint\n",
    "    i = math.floor(random.random() * len(data))\n",
    "    x = data[i][0]\n",
    "    y = data[i][0]\n",
    "    label = labels[i]\n",
    "    \n",
    "    \n",
    "    #compute forward pass\n",
    "    n1 = np.maximum(0,a1*x + b1*y + c1) #activation of first hidden neuron\n",
    "    n2 = np.maximum(0,a2*x + b2*y + c2) #2nd neuron\n",
    "    n3 = np.maximum(0,a3*x + b3*y + c3) #3rd neuron\n",
    "    score = a4*n1 +b4*n2 + c4*n3 + d4 # score\n",
    "\n",
    "    #compute the pull on top\n",
    "    pull = 0.0\n",
    "    pull = 1 if (label == 1 and score < 1 ) else pull  #we want higher output, Pull up\n",
    "    pull = 1 if (label == -1 and score > -1 ) else pull #we want lower output, Pull down\n",
    "    \n",
    "    #now compute backward pass to all parameters of model\n",
    "    \n",
    "    #backprop through last score neuron\n",
    "    dscore = pull\n",
    "    da4 = n1 * dscore\n",
    "    db4 = n2 * dscore\n",
    "    dc4 = n3 * dscore\n",
    "    dd4 = 1.0 * dscore\n",
    "    \n",
    "    #backprop to ReLu nonlinearities\n",
    "    #i.e. just set gradients to 0 if the neurons did not \"fire\"\n",
    "    dn3 = 0 if n3 == 0 else dn3\n",
    "    dn2 = 0 if n2 == 0 else dn2\n",
    "    dn1 = 0 if n1 == 0 else dn1\n",
    "    \n",
    "    #backprop to parameters of neuron1\n",
    "    da1 = x * dn1\n",
    "    db1 = y * dn1\n",
    "    dc1 = 1.0 * dn1\n",
    "    \n",
    "    \n",
    "    #backprop to parameters of neuron2\n",
    "    da2 = x * dn2\n",
    "    db2 = y * dn2\n",
    "    dc2 = 1.0 * dn2\n",
    "    \n",
    "    #backprop to parameters of neuron3\n",
    "    da3 = x * dn3\n",
    "    db3 = y * dn3\n",
    "    dc3 = 1.0 * dn3\n",
    "\n",
    "    \n",
    "    #add pulls from reguralization ,tugging all multiplicative parameters downward \n",
    "    #(i.e. not the biases) downward,proportional to their values\n",
    "    da1 += -a1; da2 += -a2; da3 += -a3;\n",
    "    db1 += -b1; db2 += -b2; db3 += -b3;\n",
    "    da4 += -a4; db4 += -b4; dc4 += -c4;\n",
    "    \n",
    "    #do the parameter update\n",
    "    step_size = 0.01\n",
    "    \n",
    "    a1 += da1 * step_size\n",
    "    a2 += da2 * step_size\n",
    "    a3 += da3 * step_size\n",
    "    a4 += da4 * step_size\n",
    "    b1 += db1 * step_size\n",
    "    b2 += db2 * step_size\n",
    "    b3 += db3 * step_size\n",
    "    b4 += db4 * step_size\n",
    "    c1 += dc1 * step_size\n",
    "    c2 += dc2 * step_size\n",
    "    c3 += dc3 * step_size\n",
    "    c4 += dc4 * step_size\n",
    "    d4 += dd4 * step_size\n"
   ]
  },
  {
   "cell_type": "markdown",
   "metadata": {},
   "source": [
    "2-layer Neural Net: \n",
    "\n",
    "- we write forward pass expression\n",
    "- interpret the value at the end as a score\n",
    "- pull on that value in a positive or negative direction depending on what we want that value to be for our \n",
    "particular example\n",
    "- parameter update after backprop will ensure that when we see this particular example in the future,the network will be more likely to give us value we desire , not the one it gave just before update"
   ]
  },
  {
   "cell_type": "markdown",
   "metadata": {},
   "source": [
    "**Conventional Approach: Loss Functions**\n",
    "\n",
    "Example: 2-D Support Vector Machine\n",
    "\n",
    "Dataset of $N$ examples $(x_{i0}, x_{i1})$ and their corresponding target features $(y_{i})$, which are allowed to be either $+1 / -1$ for positive or negative examples respectively.\n",
    "\n",
    "We have three weight parameters $(w_0, w_1, w_2)$\n",
    "\n",
    "SVM loss function is defined as follows:\n",
    "\n",
    "$$ L = [\\sum_{i=1}^N max(0, -y_{i}( w_0x_{i0} + w_1x_{i1} + w_2 ) + 1 )] + \\alpha [w_0^2 + w_1^2] $$\n",
    "\n",
    "Expression is always positive, due to thresholding at zero in the first expression and the squaring in the reguralization.\n",
    "The idea is that we will want this expression to be as small as possible."
   ]
  },
  {
   "cell_type": "code",
   "execution_count": 796,
   "metadata": {},
   "outputs": [],
   "source": [
    "X = [[1.2,0.7],[-0.3,0.5],[3,2.5]] # array of 2-dimensional data\n",
    "y = [1,-1,1] # array of labels \n",
    "w = [0.1,0.2,0.3] # example: random numbers\n",
    "alpha = 0.1 # reguralization strength\n",
    "\n",
    "def cost(X,y,w):\n",
    "    \"\"\"SVM cost function\"\"\"\n",
    "    \n",
    "    total_cost = 0.0 #L, in SVM loss function expression above\n",
    "    N = len(X)\n",
    "    # loop over all data points and compute their score\n",
    "    for i,feature in enumerate(X):\n",
    "        score = w[0] * feature[0] + w[1] * feature[1] + w[2]\n",
    "        \n",
    "    # accumulate cost based on how compatible the score is with the label\n",
    "        yi = y[i]\n",
    "        costi = np.maximum(0,-yi * score + 1)\n",
    "        print('example {}: xi = {} and label = {}'.format(i,feature,yi))\n",
    "        print('score computed to be: {}'.format(round(score,3)))\n",
    "        print('==> cost computed to be: {}'.format(round(costi,3)))\n",
    "        total_cost += costi\n",
    "    \n",
    "   #reguralization cost: we want small weights\n",
    "\n",
    "    reg_cost = alpha * (w[0] * w[0] + w[1] * w[1])\n",
    "    print('reguralization cost for current model is {}'.format(round(reg_cost,3)))\n",
    "    total_cost += reg_cost\n",
    "    \n",
    "    print('total cost is {}'.format(round(total_cost,3)))\n",
    "    return total_cost   "
   ]
  },
  {
   "cell_type": "code",
   "execution_count": 797,
   "metadata": {},
   "outputs": [
    {
     "name": "stdout",
     "output_type": "stream",
     "text": [
      "example 0: xi = [1.2, 0.7] and label = 1\n",
      "score computed to be: 0.56\n",
      "==> cost computed to be: 0.44\n",
      "example 1: xi = [-0.3, 0.5] and label = -1\n",
      "score computed to be: 0.37\n",
      "==> cost computed to be: 1.37\n",
      "example 2: xi = [3, 2.5] and label = 1\n",
      "score computed to be: 1.1\n",
      "==> cost computed to be: 0.0\n",
      "reguralization cost for current model is 0.005\n",
      "total cost is 1.815\n"
     ]
    },
    {
     "data": {
      "text/plain": [
       "1.815"
      ]
     },
     "execution_count": 797,
     "metadata": {},
     "output_type": "execute_result"
    }
   ],
   "source": [
    "cost(X,y,w)"
   ]
  },
  {
   "cell_type": "markdown",
   "metadata": {},
   "source": [
    "*Cost function is an expression that measures how bad is your classifier. When the training set is perfectly classified, the cost(ignoring the reguralization ) will be zero.*\n",
    "\n",
    "\n",
    "**The majority of cost functions in Machine Learning consists of two parts.**\n",
    "- 1. A part that measures how well model fits the data.\n",
    "- 2. Reguralization, which measures some notion of how complex or likely model is."
   ]
  },
  {
   "cell_type": "code",
   "execution_count": null,
   "metadata": {},
   "outputs": [],
   "source": []
  },
  {
   "cell_type": "code",
   "execution_count": null,
   "metadata": {},
   "outputs": [],
   "source": []
  },
  {
   "cell_type": "code",
   "execution_count": null,
   "metadata": {},
   "outputs": [],
   "source": []
  },
  {
   "cell_type": "code",
   "execution_count": null,
   "metadata": {},
   "outputs": [],
   "source": []
  },
  {
   "cell_type": "code",
   "execution_count": null,
   "metadata": {},
   "outputs": [],
   "source": []
  },
  {
   "cell_type": "code",
   "execution_count": null,
   "metadata": {},
   "outputs": [],
   "source": []
  },
  {
   "cell_type": "code",
   "execution_count": null,
   "metadata": {},
   "outputs": [],
   "source": []
  },
  {
   "cell_type": "code",
   "execution_count": null,
   "metadata": {},
   "outputs": [],
   "source": []
  },
  {
   "cell_type": "code",
   "execution_count": null,
   "metadata": {},
   "outputs": [],
   "source": []
  },
  {
   "cell_type": "code",
   "execution_count": null,
   "metadata": {},
   "outputs": [],
   "source": []
  },
  {
   "cell_type": "code",
   "execution_count": null,
   "metadata": {},
   "outputs": [],
   "source": []
  },
  {
   "cell_type": "code",
   "execution_count": null,
   "metadata": {},
   "outputs": [],
   "source": []
  },
  {
   "cell_type": "code",
   "execution_count": null,
   "metadata": {},
   "outputs": [],
   "source": []
  },
  {
   "cell_type": "code",
   "execution_count": null,
   "metadata": {},
   "outputs": [],
   "source": []
  },
  {
   "cell_type": "code",
   "execution_count": null,
   "metadata": {},
   "outputs": [],
   "source": []
  }
 ],
 "metadata": {
  "kernelspec": {
   "display_name": "Python 3",
   "language": "python",
   "name": "python3"
  },
  "language_info": {
   "codemirror_mode": {
    "name": "ipython",
    "version": 3
   },
   "file_extension": ".py",
   "mimetype": "text/x-python",
   "name": "python",
   "nbconvert_exporter": "python",
   "pygments_lexer": "ipython3",
   "version": "3.7.1rc1"
  },
  "toc": {
   "base_numbering": 1,
   "nav_menu": {
    "height": "62px",
    "width": "160px"
   },
   "number_sections": true,
   "sideBar": true,
   "skip_h1_title": false,
   "title_cell": "Table of Contents",
   "title_sidebar": "Contents",
   "toc_cell": false,
   "toc_position": {},
   "toc_section_display": true,
   "toc_window_display": false
  },
  "varInspector": {
   "cols": {
    "lenName": 16,
    "lenType": 16,
    "lenVar": 40
   },
   "kernels_config": {
    "python": {
     "delete_cmd_postfix": "",
     "delete_cmd_prefix": "del ",
     "library": "var_list.py",
     "varRefreshCmd": "print(var_dic_list())"
    },
    "r": {
     "delete_cmd_postfix": ") ",
     "delete_cmd_prefix": "rm(",
     "library": "var_list.r",
     "varRefreshCmd": "cat(var_dic_list()) "
    }
   },
   "position": {
    "height": "495.85px",
    "left": "1581px",
    "right": "20px",
    "top": "121px",
    "width": "326px"
   },
   "types_to_exclude": [
    "module",
    "function",
    "builtin_function_or_method",
    "instance",
    "_Feature"
   ],
   "window_display": false
  }
 },
 "nbformat": 4,
 "nbformat_minor": 2
}
