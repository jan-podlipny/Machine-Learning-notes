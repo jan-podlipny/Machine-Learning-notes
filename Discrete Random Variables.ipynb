{
 "cells": [
  {
   "cell_type": "markdown",
   "metadata": {},
   "source": [
    "#  Random Variable\n",
    "\n",
    "- is a extremely useful concept that simplifies notation and expands our ability to quantify uncertainty and summarize results of experiments \n",
    "\n",
    "**Given an experiment with sample space S, a random variable (r.v.) is a function from the sample space S to the real numbers R. It is common, but not required, to denote random variables by capital letters.**\n",
    "\n",
    "![image.png](attachment:image.PNG)\n",
    "\n"
   ]
  },
  {
   "attachments": {},
   "cell_type": "markdown",
   "metadata": {},
   "source": [
    "Random variable $X$ assigns a numerical value $X(s)$ to each possible outcome $s$ of the experiment.\n",
    "- randomness comes from the fact that we have a random experiment ,with probabilities described by the probability function $P$, **mapping itself is deterministic.**\n",
    "\n",
    "\n",
    "<img src=\"prob_img/rv_diagram.PNG\"/>\n",
    "                                \n",
    "                                Two random variables defined on the same sample space.\n",
    "                                \n",
    "**Example: Toss a fair coin twice**\n",
    "\n",
    "- Sample space consists of four possible outcomes : $S = \\{HH,HT,TH,TT\\}$\n",
    "- Random variables on this space. Each r.v. is a numerical summary of some aspect of the experiment.\n",
    "    - $X$ is number of Heads. This is random variable with possible values 0,1,2. Viewed as function, $X$ assigns the value 2 to the outcome $HH$, 1 to outcome $HT$ and $TH$, and 0 to outcome $TT$.\n",
    "        - $X(HH) = 2, X(HT) = X(TH) = 1, X(TT) = 0$\n",
    "    - $Y$ is number of Tails.\n",
    "        - In terms of X, we have $Y = 2 - X$\n",
    "        - in other words $Y$ and $2 - X$ are the same random variable:$Y(s) = 2 - X$ for all $s$.\n",
    "    - $I$ is 1 , if first toss lands Heads and 0 otherwise.\n",
    "        - Then $I$ assigns the value 1 to the outcomes $HH$ and $HT$ and 0 to the outcomes $TH$ and $TT$.\n",
    "        - This random variable is and example of *indicator random variable* since it indicates whether the first toss lands Heads, using $1$ to mean 'yes' and $0$ to mean 'no'.\n",
    "    - We can encode sample space as $\\{(1,1),(1,0),(0,1),(0,0)\\}$, where $1$ is code for Heads and $0$ is the code for tails.\n",
    "        - Then we can give explicit formula for $X,Y,I$:\n",
    "            - $X(s_1,s_2)= s_1+s_2, Y(s_1,s_2)=2-s_1-s_2, I(s_1,s_2)=s_1,$\n",
    "        \n",
    "Before we perform experiment , the outcome $s$, has not yet been realized, so we dont know value of $X$, though we could calculate the probability that $X$ will take on any given value or range of values. After we perform experiment, $s$ has been realized , the random variable crystallizes into the numerical value $X(s)$\n",
    "\n",
    "In this way, **Random Variables** provide *numerical* summaries of the experiment in question. "
   ]
  },
  {
   "cell_type": "markdown",
   "metadata": {},
   "source": [
    "A random variable X is said to be discrete if there is a finite list of values a1,a2,…,an or an infinite list of values a1,a2,… such that P(X=aj for some j)=1. If X is a discrete r.v., then the finite or countably infinite set of values x such that P(X=x)>0 is called the support of X."
   ]
  },
  {
   "cell_type": "code",
   "execution_count": null,
   "metadata": {},
   "outputs": [],
   "source": []
  },
  {
   "cell_type": "code",
   "execution_count": null,
   "metadata": {},
   "outputs": [],
   "source": []
  },
  {
   "cell_type": "code",
   "execution_count": null,
   "metadata": {},
   "outputs": [],
   "source": []
  }
 ],
 "metadata": {
  "kernelspec": {
   "display_name": "Python 3",
   "language": "python",
   "name": "python3"
  },
  "language_info": {
   "codemirror_mode": {
    "name": "ipython",
    "version": 3
   },
   "file_extension": ".py",
   "mimetype": "text/x-python",
   "name": "python",
   "nbconvert_exporter": "python",
   "pygments_lexer": "ipython3",
   "version": "3.7.1rc1"
  },
  "toc": {
   "base_numbering": 1,
   "nav_menu": {},
   "number_sections": true,
   "sideBar": true,
   "skip_h1_title": false,
   "title_cell": "Table of Contents",
   "title_sidebar": "Contents",
   "toc_cell": false,
   "toc_position": {},
   "toc_section_display": true,
   "toc_window_display": false
  },
  "varInspector": {
   "cols": {
    "lenName": 16,
    "lenType": 16,
    "lenVar": 40
   },
   "kernels_config": {
    "python": {
     "delete_cmd_postfix": "",
     "delete_cmd_prefix": "del ",
     "library": "var_list.py",
     "varRefreshCmd": "print(var_dic_list())"
    },
    "r": {
     "delete_cmd_postfix": ") ",
     "delete_cmd_prefix": "rm(",
     "library": "var_list.r",
     "varRefreshCmd": "cat(var_dic_list()) "
    }
   },
   "types_to_exclude": [
    "module",
    "function",
    "builtin_function_or_method",
    "instance",
    "_Feature"
   ],
   "window_display": false
  }
 },
 "nbformat": 4,
 "nbformat_minor": 2
}
