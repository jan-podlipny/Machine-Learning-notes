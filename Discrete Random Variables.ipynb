{
 "cells": [
  {
   "cell_type": "markdown",
   "metadata": {},
   "source": [
    "#  Random Variable\n",
    "\n",
    "- is a extremely useful concept that simplifies notation and expands our ability to quantify uncertainty and summarize results of experiments \n",
    "\n",
    "**Given an experiment with sample space S, a random variable (r.v.) is a function from the sample space S to the real numbers R. It is common, but not required, to denote random variables by capital letters.**\n"
   ]
  },
  {
   "cell_type": "markdown",
   "metadata": {},
   "source": [
    "Random variable $X$ assigns a numerical value $X(s)$ to each possible outcome $s$ of the experiment.\n",
    "- randomness comes from the fact that we have a random experiment ,with probabilities described by the probability function $P$, **mapping itself is deterministic.**\n",
    "\n",
    "<img src=\"prob_img/rv_diagram_.PNG\"/>\n",
    "                                \n",
    "     A random variable maps the sample space into the real line. The r.v. $X$ depicted here is defined on a sample space with 6 elements, and has possible values 0, 1, and 4. The randomness comes from choosing a random pebble.\n",
    "                                \n",
    "**Example: Toss a fair coin twice**\n",
    "\n",
    "- Sample space consists of four possible outcomes : $S = \\{HH,HT,TH,TT\\}$\n",
    "- Random variables on this space. Each r.v. is a numerical summary of some aspect of the experiment.\n",
    "    - $X$ is number of Heads. This is random variable with possible values 0,1,2. Viewed as function, $X$ assigns the value 2 to the outcome $HH$, 1 to outcome $HT$ and $TH$, and 0 to outcome $TT$.\n",
    "        - $X(HH) = 2, X(HT) = X(TH) = 1, X(TT) = 0$\n",
    "    - $Y$ is number of Tails.\n",
    "        - In terms of X, we have $Y = 2 - X$\n",
    "        - in other words $Y$ and $2 - X$ are the same random variable:$Y(s) = 2 - X$ for all $s$.\n",
    "    - $I$ is 1 , if first toss lands Heads and 0 otherwise.\n",
    "        - Then $I$ assigns the value 1 to the outcomes $HH$ and $HT$ and 0 to the outcomes $TH$ and $TT$.\n",
    "        - This random variable is and example of *indicator random variable* since it indicates whether the first toss lands Heads, using $1$ to mean 'yes' and $0$ to mean 'no'.\n",
    "    - We can encode sample space as $\\{(1,1),(1,0),(0,1),(0,0)\\}$, where $1$ is code for Heads and $0$ is the code for tails.\n",
    "        - Then we can give explicit formula for $X,Y,I$:\n",
    "            - $X(s_1,s_2)= s_1+s_2, Y(s_1,s_2)=2-s_1-s_2, I(s_1,s_2)=s_1,$\n",
    "        \n",
    "Before we perform experiment , the outcome $s$, has not yet been realized, so we dont know value of $X$, though we could calculate the probability that $X$ will take on any given value or range of values. After we perform experiment, $s$ has been realized , the random variable crystallizes into the numerical value $X(s)$\n",
    "\n",
    "In this way, **Random Variables** provide *numerical* summaries of the experiment in question. "
   ]
  },
  {
   "cell_type": "markdown",
   "metadata": {},
   "source": [
    "# Discrete Random Variables\n",
    "\n",
    "\n",
    "Definition - **(Discrete Random Variable):**\n",
    "\n",
    "A random variable $X$ is said to be *discrete*  if there is a finite list of values $a_1,a_2,\\dots ,a_n$ such that $P(X = a_j$ for some $j) = 1$  \n",
    "\n",
    "If $X$ is discrete r.v., then the finite or countably infinite set of values $x$ such that $P(X = x > 0$ is called the *support* of $X$.\n",
    "\n",
    "\n",
    "\n",
    "Most commonly in applications, the support of discrete r.v. is a set of integers. In contrast , a *continuous* r.v. can take on any real value in an interval ( possibly even the entire real line );\n",
    "\n",
    "- It is also possible to have an r.v. that is a *hybrid* of discrete and continous. Such as by flipping coin and then generating discrete r.v. if the coin lands Heads and generating continuous r.v. if the coin lands Tails\n",
    "    - Imagine that a customer in a store flips a coin to decide whether to make a purchase . \n",
    "        - If the coin lands Heads, the customer doesnt buy anything.\n",
    "        - if Tails, the customer spends some random positive real amount of money.\n"
   ]
  },
  {
   "cell_type": "markdown",
   "metadata": {},
   "source": [
    "Given a random variable, we want to be able to describe its behavior using the language of probability.\n",
    "- For ex. we would like to answer questions about the probability that r.v. will fall into given range:\n",
    "    - if $L$ is the lifetime earnings of randomly chosen college graduate, what is probability that $L$ exceeds a million dollars ?\n",
    "    - if $M$ is number of major earthquakes in California  in the next five years, what is probability that $M$ equals 0.\n",
    "- The *distribution* of random variable provides the answers to these questions; it specifies the probabilities of all events associated with the r.v., such as the probability of it equaling 3 and the probability of it being at least 110.\n",
    "\n",
    "There are several equivalent ways to express the distribution of an r.v. For discrete r.v.,the most natural way to do so is with *probability mass function*\n",
    "\n",
    "\n",
    "Definition - **Probability Mass Function:**\n",
    "\n",
    "The *probability mass function* (PMF) of discrete r.v. $X$ is the function $p_X$ given by $p_X(X) = P(X=x)$. Note that this is positive if $x$ is in support of $X$, and 0 otherwise. Here $X = x$ denotes an *event*, consisting of all outcomes $s$ to which $X$ assigns the number $x$.\n",
    "\n"
   ]
  },
  {
   "cell_type": "markdown",
   "metadata": {},
   "source": [
    "Examples of **PMF**: Coin Toss cont.\n",
    "\n",
    "- $X$, the number of heads. $X = 0$ if $TT$ happens,1 if $HT$ or $TH$ occurs, and 2 if $HH$ occurs, the PMF of $X$ is the function $p_X$ given by:\n",
    "\n",
    "$$p_X\\:(0) = P\\:(X = 0) = 1/4$$\n",
    " \n",
    "$$p_X\\:(1) = P\\:(X = 1) = 1/2$$\n",
    "\n",
    "$$p_X\\:(2) = P\\:(X = 2) = 1/4$$\n",
    "    \n",
    " and $p_X(X) = 0$ for all other values of $x$.\n",
    " \n",
    " \n",
    "- $Y = 2 - X$, the number of tails. Reasoning as above or using the fact that\n",
    "\n",
    "$$P\\:(Y = y) = P\\:(2 - X = y) = P\\:(X = 2 - y) = p_X\\:( 2 - y)$$\n",
    "\n",
    "\n",
    "\n",
    "Notice that $X$ and $Y$ have the same PMF (meaning that $p_X$ and $P_Y$ are the same functions), even though $X$ and $Y$ are not same r.v.(that is, $X$ and $Y$ are two different functions from $\\{HH,HT,TH,TT\\}$ to the real line).\n",
    "\n",
    "\n",
    "- $I$, the indicator of the first toss landing Heads. Since $I$ equals 0 if $TT$ or $TH$ occurs and 1 if $HH$ or $HT$ occurs, the PMF of $I$ is\n",
    "\n",
    "$$P_I\\:(O) = P\\:(I = 0) = 1/2$$\n",
    "\n",
    "$$P_I\\:(1) = P\\:(I = 1) = 1/2$$\n",
    "\n",
    "and $p_I(i)\\: = 0$ for all other values of $i$.\n",
    "\n",
    "\n",
    "<img src=\"prob_img/pmf_examples.PNG\"/>\n",
    "\n",
    "\n",
    "The PMFs of $X$, $Y$, and $I$ are plotted in picture above. Vertical bars are drawn to make it easier to compare the heights of different points. "
   ]
  },
  {
   "cell_type": "markdown",
   "metadata": {},
   "source": [
    "**Valid PMFs**\n",
    "\n",
    "Let $X$ be a discrete r.v. with support $x_1,x_2,\\dots$ (assume these values are distinct and, that the suppport is countably infinite; the analogous results hold if the support is finite)\n",
    "\n",
    "The PMF $p_X$ of X must satisfy the following two criteria:\n",
    "\n",
    "- Nonnegative $p_X(x) > 0$ if $x = x_j$ for some $j$, and $p_X(x) = 0 otherwise$\n",
    "- Sums to 1: $\\sum_{j=1}^{\\inf}p_X(X_j) = 1$\n",
    "\n",
    "**Proof**\n",
    "The first criterion is true since probability is nonnegative. The second is true since $X$ must take on some value, and the events $\\{X=x_j\\}$ are disjoint, so \n",
    "$$\\sum_{j=1}^\\infty P(X=x_j) = P \\left(\\bigcup_{j=1}^\\infty \\{X=x_j\\} \\right) = P(X=x_1 \\textrm{ or } X=x_2 \\textrm{ or } \\dots) = 1.$$\n",
    "\n",
    "Conversely, if distinct values $x_1,x_2,\\dots$ are specified and we have a function satisfying the two criteria above, then this function **is** the PMF of some r.v. \n",
    "\n",
    "\n",
    "The PMF is one way of expressing the distribution of a discrete r.v. \n",
    "\n",
    "This is because once we know the PMF of $X$, we can calculate the probability that $X$ will fall into a given subset of the real numbers by summing over appropriate values of $x$. Given a discrete r.v. $X$ and a set $B$ of real numbers, if we know the PMF of $X$  we can find $P\\: (X\\in B)$, the probability that $X$ is in $B$, by summing up the heights of the vertical bars at points in  $B$ in the plot of PMF of $X$. **Knowing the PMF of a discrete r.v. determines its distribution.**\n",
    "\n",
    "## **Poisson Distribution.**\n",
    "\n",
    "Random variable X has the *Poisson distribution* with parameter $\\lambda$, where $\\lambda > 0$, if the PMF of $X$ is\n",
    "\n",
    "$$P(X\\:=\\:k) = \\dfrac{e^{-\\lambda}\\lambda^{k}}{k!},k=\\:0,1,2,\\dots$$\n",
    "\n",
    "We write this as $X \\sim Pois\\:(\\lambda)$\n",
    "\n",
    "- The Poisson is one of the most widely used distributions in all of statistics, and is a very common choice of model (or building block for more complicated models) for data that **counts** the number of occurences of some kind. \n",
    "\n",
    "- The Poisson also arises through the **Poisson process**, a model that is used in a wide variety of problems in which events occur at random points in time."
   ]
  }
 ],
 "metadata": {
  "kernelspec": {
   "display_name": "Python 3",
   "language": "python",
   "name": "python3"
  },
  "language_info": {
   "codemirror_mode": {
    "name": "ipython",
    "version": 3
   },
   "file_extension": ".py",
   "mimetype": "text/x-python",
   "name": "python",
   "nbconvert_exporter": "python",
   "pygments_lexer": "ipython3",
   "version": "3.7.1rc1"
  },
  "toc": {
   "base_numbering": 1,
   "nav_menu": {},
   "number_sections": true,
   "sideBar": true,
   "skip_h1_title": false,
   "title_cell": "Table of Contents",
   "title_sidebar": "Contents",
   "toc_cell": false,
   "toc_position": {},
   "toc_section_display": true,
   "toc_window_display": false
  },
  "varInspector": {
   "cols": {
    "lenName": 16,
    "lenType": 16,
    "lenVar": 40
   },
   "kernels_config": {
    "python": {
     "delete_cmd_postfix": "",
     "delete_cmd_prefix": "del ",
     "library": "var_list.py",
     "varRefreshCmd": "print(var_dic_list())"
    },
    "r": {
     "delete_cmd_postfix": ") ",
     "delete_cmd_prefix": "rm(",
     "library": "var_list.r",
     "varRefreshCmd": "cat(var_dic_list()) "
    }
   },
   "types_to_exclude": [
    "module",
    "function",
    "builtin_function_or_method",
    "instance",
    "_Feature"
   ],
   "window_display": false
  }
 },
 "nbformat": 4,
 "nbformat_minor": 2
}
