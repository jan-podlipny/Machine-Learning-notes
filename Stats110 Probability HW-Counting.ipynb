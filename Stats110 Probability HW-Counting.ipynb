{
 "cells": [
  {
   "cell_type": "code",
   "execution_count": 34,
   "metadata": {},
   "outputs": [],
   "source": [
    "from scipy import special\n",
    "import numpy as np\n",
    "import math"
   ]
  },
  {
   "cell_type": "markdown",
   "metadata": {},
   "source": [
    "1. How many ways are there to permute the letters in the word MISSISSIPPI?"
   ]
  },
  {
   "cell_type": "code",
   "execution_count": 29,
   "metadata": {
    "scrolled": false
   },
   "outputs": [
    {
     "name": "stdout",
     "output_type": "stream",
     "text": [
      "11\n",
      "{'M': 1, 'I': 4, 'S': 4, 'P': 2}\n"
     ]
    },
    {
     "data": {
      "text/plain": [
       "34650.0"
      ]
     },
     "execution_count": 29,
     "metadata": {},
     "output_type": "execute_result"
    }
   ],
   "source": [
    "s = 'MISSISSIPPI'\n",
    "n = len(s)\n",
    "dic = {}\n",
    "for i in s:\n",
    "    if i not in dic:\n",
    "        dic[i] = 0\n",
    "    dic[i] += 1\n",
    "print('{0}\\n{1}'.format(n,dic))\n",
    "\n",
    "math.factorial(11)/(math.factorial(4)*math.factorial(4)*math.factorial(2)*math.factorial(1))"
   ]
  },
  {
   "cell_type": "markdown",
   "metadata": {},
   "source": [
    "2.(a) How many 7-digit phone numbers are possible, assuming that the first digit can’t\n",
    "be a 0 or a 1?\n",
    "\n",
    "**Solution:** For first place we have 8 choices, and for rest we have 10 choices\n",
    "$8*10*10*10*10*10*10 = 8*10^{6} = 8000000 $\n",
    "\n",
    "\n",
    "(b) Re-solve (a), except now assume also that the phone number is not allowed to start\n",
    "with 911 (since this is reserved for emergency use, and it would not be desirable for the\n",
    "system to wait to see whether more digits were going to be dialed after someone has\n",
    "dialed 911).\n",
    "\n",
    "**Solution:** All possible numbers that can be made with restraint from a  = $8*10^{6}$, there are $10^{4}$ of possible numbers that start with 911)\n",
    "$8*10^{6}-10^{4}= 7990000$"
   ]
  },
  {
   "cell_type": "markdown",
   "metadata": {},
   "source": [
    "3.\n",
    "\n",
    "Fred is planning to go out to dinner each night of a certain week, Monday through\n",
    "Friday, with each dinner being at one of his ten favorite restaurants.\n",
    "\n",
    "(a) How many possibilities are there for Fred’s schedule of dinners for that Monday through Friday, if Fred is not willing to eat at the same restaurant more than once?\n",
    "\n",
    "\n",
    "(b) How many possibilities are there for Fred’s schedule of dinners for that Monday through Friday, if Fred is willing to eat at the same restaurant more than once, but is not willing to eat at the same place twice in a row (or more)?\n",
    "\n",
    "**Solution:**\n",
    "\n",
    "a)$10*9*8*7*6 = 30240$\n",
    "\n",
    "b)$ 10*9*9*9*9 = 65610 $\n"
   ]
  },
  {
   "cell_type": "markdown",
   "metadata": {},
   "source": [
    "4. \n",
    "\n",
    "A round-robin tournament is being held with n tennis players; this means that every\n",
    "player will play against every other player exactly once.\n",
    "\n",
    "(a) How many possible outcomes are there for the tournament (the outcome lists out\n",
    "who won and who lost for each game)?\n",
    "\n",
    "(b) How many games are played in total?\n",
    "\n",
    "*Solution:*\n",
    "\n",
    "a)$10 == $  $(n-1)+(n*2)+\\ldots + 1 = n\\:(n-1)\\:/\\:2$\n",
    "\n",
    "\n",
    "b)$20$"
   ]
  },
  {
   "cell_type": "markdown",
   "metadata": {},
   "source": [
    "5.\n",
    "\n",
    "A knock-out tournament is being held with $2^{n}$ tennis players. This means that for each\n",
    "round, the winners move on to the next round and the losers are eliminated, until only\n",
    "one person remains.\n",
    "For example, if initially there are $2^{4}$ = 16 players, then there are\n",
    "8 games in the first round, then the 8 winners move on to round 2, then the 4 winners\n",
    "move on to round 3, then the 2 winners move on to round 4, the winner of which is\n",
    "declared the winner of the tournament. (There are various systems for determining who\n",
    "plays whom within a round, but these do not matter for this problem.)\n",
    "\n",
    "(a) How many rounds are there?\n",
    "\n",
    "(b) Count how many games in total are played, by adding up the numbers of games\n",
    "played in each round.\n",
    "\n",
    "(c) Count how many games in total are played, this time by directly thinking about it\n",
    "without doing almost any calculation.\n",
    "\n",
    "Hint: How many players need to be eliminated?"
   ]
  },
  {
   "cell_type": "markdown",
   "metadata": {},
   "source": [
    "**Solution:**\n",
    "\n",
    "a)$n$ rounds\n",
    "\n",
    "b)$(2^{n})-1$ games played\n",
    "\n",
    "c)$(2^{n})-1$ games played"
   ]
  },
  {
   "cell_type": "markdown",
   "metadata": {},
   "source": [
    "6.\n",
    "\n",
    "There are 20 people at a chess club on a certain day. They each find opponents and\n",
    "start playing. How many possibilities are there for how they are matched up, assuming\n",
    "that in each game it does matter who has the white pieces (in a chess game, one player\n",
    "has the white pieces and the other player has the black pieces)?"
   ]
  },
  {
   "cell_type": "markdown",
   "metadata": {},
   "source": [
    "**Solution:**\n",
    "$\\binom{20}{2}$"
   ]
  },
  {
   "cell_type": "code",
   "execution_count": 51,
   "metadata": {},
   "outputs": [
    {
     "name": "stdout",
     "output_type": "stream",
     "text": [
      "654729075.0\n"
     ]
    }
   ],
   "source": [
    "binom_list = []\n",
    "for iter in range(20,1,-2):\n",
    "    if iter % 2 == 0:\n",
    "        binom_list.append(special.binom(iter,2))\n",
    "result = np.product(binom_list)/math.factorial(10)\n",
    "print(result)"
   ]
  },
  {
   "cell_type": "code",
   "execution_count": null,
   "metadata": {},
   "outputs": [],
   "source": []
  },
  {
   "cell_type": "code",
   "execution_count": null,
   "metadata": {},
   "outputs": [],
   "source": []
  },
  {
   "cell_type": "code",
   "execution_count": null,
   "metadata": {},
   "outputs": [],
   "source": []
  },
  {
   "cell_type": "code",
   "execution_count": null,
   "metadata": {},
   "outputs": [],
   "source": []
  }
 ],
 "metadata": {
  "kernelspec": {
   "display_name": "Python 3",
   "language": "python",
   "name": "python3"
  },
  "language_info": {
   "codemirror_mode": {
    "name": "ipython",
    "version": 3
   },
   "file_extension": ".py",
   "mimetype": "text/x-python",
   "name": "python",
   "nbconvert_exporter": "python",
   "pygments_lexer": "ipython3",
   "version": "3.7.1rc1"
  }
 },
 "nbformat": 4,
 "nbformat_minor": 2
}
