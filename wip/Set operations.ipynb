{
 "cells": [
  {
   "cell_type": "markdown",
   "metadata": {},
   "source": [
    "### Cartesian product\n",
    "\n",
    "\n",
    "A **Cartesian product** of two sets $A$ and $B$, written as $A$ x $B$, is the set containing **ordered pairs** from A and B.\n",
    "\n",
    "That is, if $C=A \\times B$, then each element of $C$ is of form $(x,y)$, where $x\\in A$ and $y\\in B$\n",
    "\n",
    "$$A \\times B = \\{(x,y) | x \\in A \\textrm{ and } y \\in B \\}$$\n",
    "\n",
    "\n",
    "For example, if $A=\\{1,2,3\\}$, and $B=\\{H,T\\}$,then\n",
    "\n",
    "$$A \\times B=\\{(1,H),(1,T),(2,H),(2,T),(3,H),(3,T)\\}$$\n",
    "\n",
    "Note that here the pairs are ordered, so for example, $(1,H)\\neq (H,1)$ so $A \\times B$ is not $B \\times A$\n",
    "\n",
    "- An important example of sets obtained using a Cartesian product is $\\mathbb{R}^n$, where $n$ is natural number \n",
    "  - for $n=2$, we have :\n",
    "    - $\\mathbb{R}^{2}= \\mathbb{R}\\times \\mathbb{R}$\n",
    "      - $= \\{(x,y) | x \\in \\mathbb{R}, y \\in \\mathbb{R} \\}$\n",
    "      - thus $\\mathbb{R}^{2}$ is the set consisting of all points in the two-dimensional plane."
   ]
  },
  {
   "cell_type": "markdown",
   "metadata": {},
   "source": [
    "### Cardinality: Countable and Uncountable Sets\n",
    "\n",
    "- cardinality of a set is basically **size** of set\n",
    "  - denoted by $|A|$\n",
    "  \n",
    "#### Finite Sets\n",
    "\n"
   ]
  },
  {
   "cell_type": "code",
   "execution_count": null,
   "metadata": {},
   "outputs": [],
   "source": []
  },
  {
   "cell_type": "code",
   "execution_count": null,
   "metadata": {},
   "outputs": [],
   "source": []
  },
  {
   "cell_type": "code",
   "execution_count": null,
   "metadata": {},
   "outputs": [],
   "source": []
  }
 ],
 "metadata": {
  "kernelspec": {
   "display_name": "Python 3",
   "language": "python",
   "name": "python3"
  },
  "language_info": {
   "codemirror_mode": {
    "name": "ipython",
    "version": 3
   },
   "file_extension": ".py",
   "mimetype": "text/x-python",
   "name": "python",
   "nbconvert_exporter": "python",
   "pygments_lexer": "ipython3",
   "version": "3.7.1rc1"
  },
  "toc": {
   "base_numbering": 1,
   "nav_menu": {},
   "number_sections": true,
   "sideBar": true,
   "skip_h1_title": false,
   "title_cell": "Table of Contents",
   "title_sidebar": "Contents",
   "toc_cell": false,
   "toc_position": {},
   "toc_section_display": true,
   "toc_window_display": false
  },
  "varInspector": {
   "cols": {
    "lenName": 16,
    "lenType": 16,
    "lenVar": 40
   },
   "kernels_config": {
    "python": {
     "delete_cmd_postfix": "",
     "delete_cmd_prefix": "del ",
     "library": "var_list.py",
     "varRefreshCmd": "print(var_dic_list())"
    },
    "r": {
     "delete_cmd_postfix": ") ",
     "delete_cmd_prefix": "rm(",
     "library": "var_list.r",
     "varRefreshCmd": "cat(var_dic_list()) "
    }
   },
   "types_to_exclude": [
    "module",
    "function",
    "builtin_function_or_method",
    "instance",
    "_Feature"
   ],
   "window_display": false
  }
 },
 "nbformat": 4,
 "nbformat_minor": 2
}
