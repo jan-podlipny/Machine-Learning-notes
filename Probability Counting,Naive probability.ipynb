{
 "cells": [
  {
   "cell_type": "markdown",
   "metadata": {},
   "source": [
    "####  Multiplication Rule \n",
    "\n",
    "Consider a compound experiment consisting\n",
    "of two sub-experiments, Experiment A and Experiment B. Suppose that Experiment\n",
    "A has $a$ possible outcomes, and for each of those outcomes Experiment B has $b$\n",
    "possible outcomes. Then the compound experiment has $ab$ possible outcomes.\n",
    "\n",
    "<img src='prob_img\\multiplication_rule.png'>\n",
    "\n",
    "####  Probabilities involving at least one success\n",
    "\n",
    "$P\\;(at\\; least\\; one\\; success\\;)=1-P\\;(all\\; failures)$\n",
    "\n",
    "$P\\;(at\\; least\\; one\\; failure\\;)=1-P\\;(all\\; successes)$"
   ]
  },
  {
   "cell_type": "markdown",
   "metadata": {},
   "source": [
    "#### Subsets\n",
    "\n",
    "**A set with n elements has $2^{n}$ subsets, including the empty set $\\varnothing$ and the set itself.\n",
    "\n",
    "#### Sampling with replacement\n",
    "\n",
    "Consider $n$ objects  and making $k$ choices from them , one at a time with replacement(i.e., choosing a certain object does not preclude it from being chosen again.\n",
    "\n",
    "Then there are $n^{k}$ possible outcomes\n",
    "\n",
    "#### Sampling without replacement\n",
    "\n",
    "Consider $n$ objects and making $k$ choises from them, one at a time without replacement (i.e., choosing a certain object precludes it from being chosen again ) \n",
    "\n",
    "Then there $n(n-1)\\ldots(n-k+1)$ possible outcomes ,for $k\\leq n$  (and 0 possibilities for $k > n$)\n",
    "\n",
    "#### Permutations and factorials\n",
    "\n",
    "A permutation of 1, 2, . . . ,n is an\n",
    "arrangement of them in some order, e.g., $3, 5, 1, 2, 4$ is a permutation of $1, 2, 3, 4, 5$.\n",
    "\n",
    "\n",
    "#### Adjusting for overcounting\n",
    "\n",
    "If we are able to count each possibility exactly $c$ times for some $c$, then we can adjust by diving by $c$\n",
    "\n",
    "\n",
    "#### Binomial coefficient formula\n",
    "\n",
    "\n",
    "$$\\binom{n}{k}=\\frac{n(n-1)\\ldots (n-k+1)}{k!}=\\frac{n!}{(n-k)!k!}$$\n",
    "\n",
    "for $k>n,$  we have $\\binom{n}{k}=0$\n",
    "\n",
    "For any nonnegative integers $k$ and $n$,   *binomial coefficient*$\\binom{n}{k}$, (read as \"$n$ choose $k$) , is the number of subsets of size $k$ for a set of size $n$.\n",
    "\n",
    "\n",
    "#### Binomial Theorem\n",
    "\n",
    "\n",
    "$$(x+y)^{n} = \\sum_{k=1}^{n}\\binom{n}{k}x^{k}y^{n-k}$$\n",
    "\n",
    "To prove theorem, expand out the product $(x+y)(x+y)\\ldots(x+y)$"
   ]
  },
  {
   "cell_type": "markdown",
   "metadata": {},
   "source": [
    "Probability of full house ? full house= three cards of some rank, two cards of some other rank"
   ]
  },
  {
   "cell_type": "markdown",
   "metadata": {},
   "source": [
    "$$P(full\\;house)=\\frac{13\\binom{4}{3}12\\binom{4}{2}}{\\binom{52}{5}}$$"
   ]
  },
  {
   "cell_type": "markdown",
   "metadata": {},
   "source": [
    "<img src='prob_img/sampling.PNG'>"
   ]
  },
  {
   "cell_type": "code",
   "execution_count": 13,
   "metadata": {},
   "outputs": [
    {
     "name": "stdout",
     "output_type": "stream",
     "text": [
      "Probability of full house is app. 0.001441\n"
     ]
    }
   ],
   "source": [
    "import scipy as scp\n",
    "P_3_cards_same_rank = 13*scp.special.binom(4,3)\n",
    "P_2_cards_same_rank = 12*scp.special.binom(4,2)\n",
    "P_5_cards_from_52 = scp.special.binom(52,5)\n",
    "\n",
    "P = P_3_cards_same_rank*P_2_cards_same_rank/P_5_cards_from_52\n",
    "print('Probability of full house is app. {0}'.format(round(P,6)))"
   ]
  },
  {
   "attachments": {},
   "cell_type": "markdown",
   "metadata": {},
   "source": [
    "#### Non-naive definition of probability\n",
    "\n",
    "**General definition of probability**\n",
    "\n",
    "A *probability space* consists of sample space $S$ and *probability function P* which takes an event $A\\subseteq S$ as input and returns $P(A)$, a real number  between 0 and 1, as output. The function must satisfy following axioms:\n",
    "\n",
    "1.$P\\;(\\varnothing) = 0$ and $P\\;(S)=1$\n",
    "\n",
    "2.If $A_{1},A_{2},\\ldots$ are disjoint events, then\n",
    "\n",
    "<img src ='prob_img/gen_prob.png'>\n",
    "\n",
    "(saying that these event are disjoint, means that they are *mutually exclusive* $A_{i}\\cap A{j} = \\varnothing$ for $i \\neq j$\n",
    "\n",
    "**Properties of probability**\n",
    "\n",
    "1. $P(A^{c}) = 1-P(A)$\n",
    "\n",
    "\n",
    "2. if $A\\subseteq B$,then $P(A)\\leq P(B)$\n",
    "\n",
    "\n",
    "3. $P(A\\cup B) = P(A)+P(B)-P(A\\cap B) $\n",
    "\n",
    "\n",
    "**Inclusion-Exclusion**\n",
    "\n",
    "For any events $A_{1},\\ldots,A_{n}$\n",
    "\n",
    "<img src ='prob_img/inclusion_exclusion.png'>\n",
    "\n",
    "\n",
    "For any events $A_{1},\\ldots,A_{2}$\n",
    "\n",
    "$$P(A_{1}\\cup A_{2}) = P(A_{1})+P(A_{2})-P(A_{1}\\cap A_{2})$$"
   ]
  },
  {
   "cell_type": "markdown",
   "metadata": {},
   "source": [
    "#### Mapping events to numbers\n",
    "\n",
    "\n",
    "$$A\\:\\:\\: \\xrightarrow{P}\\;\\;\\; P(A)$$\n",
    "\n",
    "$$not\\;A \\:\\:\\:\\xrightarrow{P}\\:\\:\\:P(A^{c}) = 1-P(A)$$\n",
    "\n",
    "$$A\\;and\\;B\\:\\:\\: \\xrightarrow{P}\\:\\:\\: P(A\\cap B)$$\n",
    "\n",
    "$$A \\; or \\; B \\;\\:\\: \\xrightarrow{P}\\:\\: P(A\\cup B) = P(A)+P(B)-P(A\\cap B)$$\n",
    "\n",
    "$$something\\; happened\\;\\;\\; \\xrightarrow{P}\\:\\:\\:\\: \\; P(S) = 1$$"
   ]
  },
  {
   "cell_type": "code",
   "execution_count": null,
   "metadata": {},
   "outputs": [],
   "source": []
  },
  {
   "cell_type": "code",
   "execution_count": null,
   "metadata": {},
   "outputs": [],
   "source": []
  },
  {
   "cell_type": "code",
   "execution_count": null,
   "metadata": {},
   "outputs": [],
   "source": []
  },
  {
   "cell_type": "code",
   "execution_count": null,
   "metadata": {},
   "outputs": [],
   "source": []
  },
  {
   "cell_type": "code",
   "execution_count": null,
   "metadata": {},
   "outputs": [],
   "source": []
  }
 ],
 "metadata": {
  "kernelspec": {
   "display_name": "Python 3",
   "language": "python",
   "name": "python3"
  },
  "language_info": {
   "codemirror_mode": {
    "name": "ipython",
    "version": 3
   },
   "file_extension": ".py",
   "mimetype": "text/x-python",
   "name": "python",
   "nbconvert_exporter": "python",
   "pygments_lexer": "ipython3",
   "version": "3.7.1rc1"
  }
 },
 "nbformat": 4,
 "nbformat_minor": 2
}
