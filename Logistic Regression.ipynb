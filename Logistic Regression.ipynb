{
 "cells": [
  {
   "cell_type": "markdown",
   "metadata": {},
   "source": [
    "### Classification\n",
    "\n",
    "- $y$ (target feature) is discrete value\n",
    "- Examples:\n",
    "  - Email:Spam/not Spam ?\n",
    "  - Online Transactions: fradulent(yes/no) ?\n",
    "  - Tumor: Malignant/Benign ?\n",
    "- $y \\in \\{0,1\\}$\n",
    "  - 0: \"Negative class\"(e.g., benign tumor)\n",
    "  - 1: \"Positive class\" (e.g., malignant tumor)\n",
    "  - can be multiclass i.e. $y \\in \\{0,1,2,3\\}$\n",
    "\n",
    "#### Logistic regression model\n",
    "Want $0\\leq H_{\\theta(x)}\\leq 1$\n",
    "\n",
    "linear regression -> $h_\\theta(x) = \\theta^{T}x$\n",
    "\n",
    "logistic regresion -> $h_\\theta(x) = g(\\theta^{T}x)$\n",
    "\n",
    "### $g(z)$ =  Sigmoid function = Logistic function\n",
    "\n",
    "\n",
    "<font size = '4'>\n",
    "    \n",
    "$g(z) = \\frac{1}{1+e^{-z}}=\\frac{e^{x}}{e^{x}+1}$ </font>\n",
    "\n",
    "\n",
    "<font size = '4'>\n",
    "\n",
    "\n",
    "$h_{\\theta}(x) = \\frac{1}{1+e^{-\\theta^{Tx}}}$</font>"
   ]
  },
  {
   "cell_type": "code",
   "execution_count": 23,
   "metadata": {
    "scrolled": true
   },
   "outputs": [
    {
     "data": {
      "image/png": "[encoded data removed]",
      "text/plain": [
       "<Figure size 432x288 with 1 Axes>"
      ]
     },
     "metadata": {
      "needs_background": "light"
     },
     "output_type": "display_data"
    }
   ],
   "source": [
    "import numpy as np\n",
    "import matplotlib.pyplot as plt\n",
    "\n",
    "x = np.arange(-6,6,0.001)\n",
    "log_f = lambda x : 1/(1+np.exp(-x))\n",
    "y = log_f(x)\n",
    "fig,ax = plt.subplots()\n",
    "ax.plot(x,y)\n",
    "ax.grid()"
   ]
  },
  {
   "cell_type": "markdown",
   "metadata": {},
   "source": [
    "### Interpretation of hypothesis output\n",
    "\n",
    "$h_{\\theta}(x)=$ estimated probability that $y=1$ on input x\n",
    "\n",
    "$h_{\\theta}(x)=P(y=1\\mid x;\\theta)$ (probability that $y=1$, given x, parameterized by $\\theta$)\n",
    "\n",
    "$P(y=0\\mid x;\\theta)+P(y=1\\mid x;\\theta) = 1$\n",
    "\n",
    "\n",
    "$P(y=0\\mid x;\\theta)=1- P(y=1\\mid x;\\theta)$ "
   ]
  },
  {
   "cell_type": "markdown",
   "metadata": {},
   "source": [
    "### Decision Boundary\n",
    "\n",
    "- Can be linear or non-linear\n",
    "\n",
    "Suppose\n",
    "  - predict \"$y=1$\" if $h_{\\theta}(x)\\geq 0.5$\n",
    "    - $g(z) \\geq 0.5$ when $z\\geq 0$\n",
    "        - $h_{\\theta}(x) = g(\\theta^{T}x) \\geq 0.5$, whenever $\\theta^{T}x\\geq 0$ \n",
    "  - predict \"$y=0$\" if $h_{\\theta}(x)< 0.5$\n",
    "    - $g(z) < 0.5$ when $z < 0$\n",
    "        - $h_{\\theta}(x) = g(\\theta^{T}x) <0.5$, whenever $\\theta^{T}x < 0$ \n",
    "\n",
    "Decision boundary is defined by parameter vector $\\theta$\n",
    "\n",
    "#### Non-Linear decision boundary\n",
    "- Let`s have $h_{\\theta}(x)=g(\\theta_{0}+\\theta_{1}x_{1}+\\theta_{2}x_{2}+\\theta_{3}x_{1}+\\theta_{4}x_{2})$\n",
    "  - We take the transpose of the $\\theta$ vector times the input vector\n",
    "  - Say $\\theta^{T}$ was $[-1,0,0,1,]$\n",
    "      - Predict that $y=1$ if\n",
    "        - $-1+x_{1}^{2}+x_{2}^{2}\\geq 0$\n",
    "        - or\n",
    "        - $x_{1}^{2}+x_{2}^{2}\\geq 0$\n",
    "        - Plotting $x_{1}^{2}+x_{2}^{2}=1$ gives us a circle with radius 1 around 0\n",
    "\n",
    "<img src = 'images\\dec_boundary_circle.png'>\n",
    "\n",
    "- It means that we can build more complex decision boundaries by fitting complex parameters this relatively simple hypothesis\n",
    "- How to get more complex decision boundaries ?\n",
    "   - By using higher order polynomial terms, we can get even more complex decision boundaries\n",
    "<img src = 'images\\dec_boundary_swamp.png'>\n"
   ]
  },
  {
   "cell_type": "markdown",
   "metadata": {},
   "source": [
    "### Cost function for logistic regression"
   ]
  },
  {
   "cell_type": "code",
   "execution_count": null,
   "metadata": {},
   "outputs": [],
   "source": []
  },
  {
   "cell_type": "code",
   "execution_count": null,
   "metadata": {},
   "outputs": [],
   "source": []
  },
  {
   "cell_type": "code",
   "execution_count": null,
   "metadata": {},
   "outputs": [],
   "source": []
  },
  {
   "cell_type": "code",
   "execution_count": null,
   "metadata": {},
   "outputs": [],
   "source": []
  },
  {
   "cell_type": "code",
   "execution_count": null,
   "metadata": {},
   "outputs": [],
   "source": []
  },
  {
   "cell_type": "code",
   "execution_count": null,
   "metadata": {},
   "outputs": [],
   "source": []
  },
  {
   "cell_type": "code",
   "execution_count": null,
   "metadata": {},
   "outputs": [],
   "source": []
  },
  {
   "cell_type": "code",
   "execution_count": null,
   "metadata": {},
   "outputs": [],
   "source": []
  }
 ],
 "metadata": {
  "kernelspec": {
   "display_name": "Python 3",
   "language": "python",
   "name": "python3"
  },
  "language_info": {
   "codemirror_mode": {
    "name": "ipython",
    "version": 3
   },
   "file_extension": ".py",
   "mimetype": "text/x-python",
   "name": "python",
   "nbconvert_exporter": "python",
   "pygments_lexer": "ipython3",
   "version": "3.7.1rc1"
  }
 },
 "nbformat": 4,
 "nbformat_minor": 2
}
