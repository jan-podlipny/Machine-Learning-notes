{
 "cells": [
  {
   "cell_type": "markdown",
   "metadata": {},
   "source": [
    "### Why is derivative of number 0 and of x 1 ?\n",
    "\n",
    "\n",
    "For a constant, let $f(x)=c$, where $c$ is constant\n",
    "\n",
    "$$f`(x)=\\lim_{x \\to 0}\\frac{f(x+h)-f(x)}{h}= \\lim_{x \\to 0}\\frac{c-c}{h}=\\lim_{x \\to 0}\\frac{0}{h}=\\lim_{x \\to 0}0=0$$\n",
    "\n",
    "for $f(x) = x$\n",
    "\n",
    "$$f`(x)=\\lim_{x \\to 0}\\frac{f(x+h)-f(x)}{h}= \\lim_{x \\to 0}\\frac{x+h-x}{h}=\\lim_{x \\to 0}1=1$$"
   ]
  },
  {
   "cell_type": "markdown",
   "metadata": {},
   "source": [
    "$$\\frac{df}{dx} = \\frac{change \\; in \\; a \\; function \\;}{change \\; in \\; x } = Rate\\; at\\; which\\; function\\; is\\; changing\\; per\\; unit\\; change\\; in\\; x $$"
   ]
  },
  {
   "cell_type": "code",
   "execution_count": 2,
   "metadata": {},
   "outputs": [],
   "source": [
    "import numpy as np\n",
    "from matplotlib import pyplot as plt"
   ]
  },
  {
   "cell_type": "code",
   "execution_count": 46,
   "metadata": {},
   "outputs": [],
   "source": [
    "x = np.arange(-4,4,1)\n",
    "f = lambda x : x**3\n",
    "fd = lambda x : 3*x**2 \n",
    "y = np.power(x,3)\n",
    "dx = 2*np.power(x,2)\n",
    "y_l = f(x)\n",
    "dx_l = fd(x)"
   ]
  },
  {
   "cell_type": "code",
   "execution_count": 49,
   "metadata": {
    "scrolled": false
   },
   "outputs": [
    {
     "data": {
      "text/plain": [
       "[<matplotlib.lines.Line2D at 0x1bc4f5bd518>]"
      ]
     },
     "execution_count": 49,
     "metadata": {},
     "output_type": "execute_result"
    },
    {
     "data": {
      "image/png": "[encoded data removed]",
      "text/plain": [
       "<Figure size 432x288 with 1 Axes>"
      ]
     },
     "metadata": {
      "needs_background": "light"
     },
     "output_type": "display_data"
    }
   ],
   "source": [
    "fig = plt.figure()\n",
    "ax = fig.gca()\n",
    "ax.set_xticks(np.arange(-4,4,1))\n",
    "ax.set_xticks(np.arange(-4,4,1))\n",
    "plt.grid(True)\n",
    "plt.plot(x,y)\n",
    "plt.plot(x,dx)"
   ]
  },
  {
   "cell_type": "markdown",
   "metadata": {},
   "source": [
    "#### Power rule vs Quotient rule and negative exponent\n",
    "<font size = '4'>\n",
    "\n",
    "$$q^{-3} = \\frac{1}{q^{3}}$$\n",
    "\n",
    "$$-3q^{-3-1}=-3q^{-4}$$\n",
    "\n",
    "$$\\frac{q3*0-1*3q^{2}}{(q^{3})^{2}} = \\frac{-3q^{2}}{q^{6}} = -3q^{2-6}= -3q^{-4}$$\n",
    "\n",
    "</font>\n",
    "\n"
   ]
  },
  {
   "cell_type": "markdown",
   "metadata": {},
   "source": [
    "<font size = '4'>\n",
    "\n",
    "**Power Rule**\n",
    "\n",
    "$$\\frac{d}{dx}[x^{n}] = n\\cdot x^{n-1}$$\n",
    "\n",
    "**Constant Rule**\n",
    "\n",
    "$$\\frac{d}{dx}k = 0$$\n",
    "\n",
    "**Constant multiple rule**\n",
    "\n",
    "$$\\frac{d}{dx}[k\\cdot f(x)]=k\\cdot\\frac{d}{dx}$$\n",
    "\n",
    "\n",
    "**Sum Rule**\n",
    "\n",
    "$$\\frac{d}{dx}[f(x) + g(x)]=\\frac{d}{dx}f(x)+\\frac{d}{dx}g(x)$$\n",
    "\n",
    "**Difference Rule**\n",
    "\n",
    "$$\\frac{d}{dx}[f(x) - g(x)]=\\frac{d}{dx}f(x)-\\frac{d}{dx}g(x)$$\n",
    "\n",
    "\n",
    "**Derivative of ln(x)**\n",
    "\n",
    "$$\\frac{d}{dx}[ln(x)] = \\frac{1}{x}$$\n",
    "\n",
    "**Power Rule**\n",
    "\n",
    "$$\\frac{d}{dx}[f(x)\\cdot g(x)] = \\frac{d}{dx}[f(x)]\\cdot g(x)+ f (x)\\cdot \\frac{d}{dx}[g(x)]$$\n",
    "\n",
    "\n",
    "**Quotient Rule**\n",
    "\n",
    "$$\\frac{d}{dx}[\\frac{f(x)}{g(x)}] = \\frac{\\frac{d}{dx}[f(x)]\\cdot g(x)- f (x)\\cdot \\frac{d}{dx}[g(x)}{[g(x)]^{2}}$$\n",
    "\n",
    "\n",
    "**Chain Rule**\n",
    "\n",
    "$$\\frac{d}{dx}[f(g(x))]=f`(g(x))g`(x)$$\n",
    "\n",
    "$$\\frac{d}{dx}sin(x^{2})= cos(x^{2})2x$$\n",
    "\n",
    "$$\\frac{d}{dx}(g(h(x))=\\frac{dg}{dh}\\frac{dh}{dx}=\\frac{dg}{dx}$$\n",
    "\n",
    "$dg=$ tiny change in g(final output)\n",
    "\n",
    "$dh=$ tiny change in h, that caused dg\n",
    "\n",
    "$dh$= tiny change in h\n",
    "\n",
    "$dx$= tiny change in x, that caused dh\n",
    "\n",
    "\n",
    "\n",
    "</font>\n"
   ]
  },
  {
   "cell_type": "code",
   "execution_count": 52,
   "metadata": {},
   "outputs": [
    {
     "data": {
      "text/plain": [
       "7.5"
      ]
     },
     "execution_count": 52,
     "metadata": {},
     "output_type": "execute_result"
    }
   ],
   "source": [
    "(3/2)*5"
   ]
  },
  {
   "cell_type": "code",
   "execution_count": null,
   "metadata": {},
   "outputs": [],
   "source": []
  },
  {
   "cell_type": "code",
   "execution_count": null,
   "metadata": {},
   "outputs": [],
   "source": []
  }
 ],
 "metadata": {
  "kernelspec": {
   "display_name": "Python 3",
   "language": "python",
   "name": "python3"
  },
  "language_info": {
   "codemirror_mode": {
    "name": "ipython",
    "version": 3
   },
   "file_extension": ".py",
   "mimetype": "text/x-python",
   "name": "python",
   "nbconvert_exporter": "python",
   "pygments_lexer": "ipython3",
   "version": "3.7.1rc1"
  }
 },
 "nbformat": 4,
 "nbformat_minor": 2
}
