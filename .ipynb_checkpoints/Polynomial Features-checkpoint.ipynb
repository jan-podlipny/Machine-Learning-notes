{
 "cells": [
  {
   "cell_type": "markdown",
   "metadata": {},
   "source": [
    "# Polynomial Features\n",
    "\n",
    "- Typically used prior to building linear model, but very quickly increases the size of the feature set.\n",
    "- helps to better fit data that can`t be easily separated with linear model\n",
    "\n",
    "Example:\n",
    "\n",
    "1x2 sample of pixels\n",
    "```python\n",
    "+----+----+\n",
    "| x1 | x2 |\n",
    "+----+----+\n",
    "```\n",
    "\n",
    "Lets construct polynomial by including all of the pixel intensities and all possible multiples that can be formed from them:\n",
    "\n",
    "enumerated polynomial sequence of features:   $x_1,\\ x_2,\\ x_1^2,\\ x_2^2,\\ x_1 \\times x_2,\\ x_2 \\times x_1$\n",
    "\n",
    "Pattern in sequence:\n",
    "\n",
    "Group 1 : $x_1,\\ x_2$\n",
    "- features based on their pixel intensity (original features)\n",
    "\n",
    "Group 2 : $x_1^2,\\ x_2^2$\n",
    "- features that are squares of original features\n",
    "    \n",
    "Group 3 : $x_1 \\times x_2,\\ x_2 \\times x_1$\n",
    "- products of all combinations of pairwise(two) pixel intensities\n",
    "- contains duplicates ($x_1 \\times x_2,\\ = x_2 \\times x_1$\n",
    "\n",
    "\n",
    "Total number of features in all groups = 5.\n",
    "\n",
    "Generic formula:\n",
    "\n",
    "$size group 1 + size group 2 + size group 3 = m \\times n + m \\times n +m \\times n = 3 \\times m \\times n$\n",
    "**(BEWARE : COUNTS DUPLICATES IN GROUP 3 )**\n",
    "\n",
    "To properly count the features for group 3, we need to use binomial coefficient ( counts all possible subgroups of size k from an equal or larger group of size n ($C(m \\times n, 2)$)\n",
    "\n",
    "\n",
    "Fixed generic formula:\n",
    "\n",
    "$m \\times n + m \\times n +C(m \\times n, 2) = 2m \\times n + C(m \\times n, 2)$"
   ]
  },
  {
   "cell_type": "code",
   "execution_count": null,
   "metadata": {},
   "outputs": [],
   "source": []
  }
 ],
 "metadata": {
  "kernelspec": {
   "display_name": "Python 3",
   "language": "python",
   "name": "python3"
  },
  "language_info": {
   "codemirror_mode": {
    "name": "ipython",
    "version": 3
   },
   "file_extension": ".py",
   "mimetype": "text/x-python",
   "name": "python",
   "nbconvert_exporter": "python",
   "pygments_lexer": "ipython3",
   "version": "3.7.1rc1"
  },
  "toc": {
   "base_numbering": 1,
   "nav_menu": {},
   "number_sections": true,
   "sideBar": true,
   "skip_h1_title": false,
   "title_cell": "Table of Contents",
   "title_sidebar": "Contents",
   "toc_cell": false,
   "toc_position": {},
   "toc_section_display": true,
   "toc_window_display": false
  },
  "varInspector": {
   "cols": {
    "lenName": 16,
    "lenType": 16,
    "lenVar": 40
   },
   "kernels_config": {
    "python": {
     "delete_cmd_postfix": "",
     "delete_cmd_prefix": "del ",
     "library": "var_list.py",
     "varRefreshCmd": "print(var_dic_list())"
    },
    "r": {
     "delete_cmd_postfix": ") ",
     "delete_cmd_prefix": "rm(",
     "library": "var_list.r",
     "varRefreshCmd": "cat(var_dic_list()) "
    }
   },
   "types_to_exclude": [
    "module",
    "function",
    "builtin_function_or_method",
    "instance",
    "_Feature"
   ],
   "window_display": false
  }
 },
 "nbformat": 4,
 "nbformat_minor": 2
}
