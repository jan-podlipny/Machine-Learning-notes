{
 "cells": [
  {
   "cell_type": "markdown",
   "metadata": {},
   "source": [
    "**Motivation I: Data Compression**\n",
    "\n",
    "- We may want to reduce the dimension of our features if we have a lot of redundant data.\n",
    "- To do this, we find two highly correlated features, plot them, and make a new line that seems to describe both features accurately. We place all the new features on this single line\n",
    "\n",
    "- Doing dimensionality reduction will reduce the total data we have to store in computer memory and will speed up our learning algorithm.\n",
    "\n",
    "\n",
    "**Motivation II: Visualization**\n",
    "\n",
    "- It is not easy to visualize data that is more than three dimensions. We can reduce the dimensions of our data to 3 or less in order to plot it.\n",
    "\n",
    "- We need to find new features, $z_1, z_2$(and perhaps $z_3$) that can effectively summarize all the other features.\n",
    "\n",
    "Example: hundreds of features related to a country's economic system may all be combined into one feature that you call \"Economic Activity.\""
   ]
  },
  {
   "cell_type": "markdown",
   "metadata": {},
   "source": [
    "# PCA\n",
    "\n",
    "## **Problem formulation**\n",
    "\n",
    "Given two features, $x_1$ and $x_2$, we want to find a single line that effectively describes both features at once. We then map our old features onto this new line to get a new single feature.\n",
    "\n",
    "The same can be done with three features, where we map them to a plane.\n",
    "\n",
    "The goal of PCA is to reduce the average of all the distances of every feature to the projection line. This is the projection error.\n",
    "\n",
    "Reduce from 2d to 1d: find a direction (a vector $u(1)\\in R^n$) onto which to project the data so as to minimize the projection error.\n",
    "\n",
    "General case :\n",
    "\n",
    "Reduce from n-dimension to k-dimension: Find $k$ vectors $u^{(1)}, u^{(2)}, \\dots, u^{(k)}$ onto which to project the data so as to minimize the projection error.\n",
    "\n",
    "If we are converting from 3d to 2d, we will project our data onto two directions (a plane), so $k$ will be 2.\n",
    "\n",
    "## Principal Component Analysis Algorithm\n",
    "\n",
    "Before we can apply PCA, there is a data pre-processing step we must perform:\n",
    "\n",
    "**Data preprocessing**\n",
    "\n",
    "- Given training set: $x^{(1)},x^{(2)},\\dots,x^{(m)}$\n",
    "- Preprocess (feature scaling/mean normalization):\n",
    "    - $\\mu_j = \\frac{1}{m}\\sum_{i=1}^{m}x_{j}^{(i)}$\n",
    "- Replace each $x_j^{(i)}$ with $x_j^{(i)} - \\mu_j$\n",
    "- If different features are on different scales , scale features to have comparable range of values.\n",
    "    - $x_j^{(i)} = \\dfrac{x_j^{(i)} - \\mu_j}{s_j}$\n",
    "\n",
    "\n",
    "1. **Compute Covariance Matrix**\n",
    "\n",
    "$\\Sigma = \\dfrac{1}{m}\\sum^m_{i=1}(x^{(i)})(x^{(i)})^T$\n",
    "\n",
    "- Covariance matrix is denoted by capital sigma, do not confuse with symbol for summation\n",
    "- Note that $x^{(i)}$ is an n×1 vector, ($(x^{(i)})^T$ is an 1×n vector and X is a m×n matrix (row-wise stored examples). The product of those will be an n×n matrix, which are the dimensions of $\\Sigma$.\n",
    "\n",
    "\n",
    "2. **Compute \"eigenvectors\" of covariance matrix $\\Sigma$**"
   ]
  },
  {
   "cell_type": "code",
   "execution_count": 2,
   "metadata": {},
   "outputs": [
    {
     "data": {
      "text/plain": [
       "-0.7071067811865475"
      ]
     },
     "execution_count": 2,
     "metadata": {},
     "output_type": "execute_result"
    }
   ],
   "source": [
    "-1/(2**0.5)"
   ]
  },
  {
   "cell_type": "code",
   "execution_count": null,
   "metadata": {},
   "outputs": [],
   "source": []
  },
  {
   "cell_type": "code",
   "execution_count": null,
   "metadata": {},
   "outputs": [],
   "source": []
  },
  {
   "cell_type": "code",
   "execution_count": null,
   "metadata": {},
   "outputs": [],
   "source": []
  },
  {
   "cell_type": "code",
   "execution_count": null,
   "metadata": {},
   "outputs": [],
   "source": []
  },
  {
   "cell_type": "code",
   "execution_count": null,
   "metadata": {},
   "outputs": [],
   "source": []
  },
  {
   "cell_type": "code",
   "execution_count": null,
   "metadata": {},
   "outputs": [],
   "source": []
  },
  {
   "cell_type": "code",
   "execution_count": null,
   "metadata": {},
   "outputs": [],
   "source": []
  },
  {
   "cell_type": "code",
   "execution_count": null,
   "metadata": {},
   "outputs": [],
   "source": []
  },
  {
   "cell_type": "code",
   "execution_count": null,
   "metadata": {},
   "outputs": [],
   "source": []
  }
 ],
 "metadata": {
  "kernelspec": {
   "display_name": "Python 3",
   "language": "python",
   "name": "python3"
  },
  "language_info": {
   "codemirror_mode": {
    "name": "ipython",
    "version": 3
   },
   "file_extension": ".py",
   "mimetype": "text/x-python",
   "name": "python",
   "nbconvert_exporter": "python",
   "pygments_lexer": "ipython3",
   "version": "3.7.1rc1"
  },
  "toc": {
   "base_numbering": 1,
   "nav_menu": {},
   "number_sections": true,
   "sideBar": true,
   "skip_h1_title": false,
   "title_cell": "Table of Contents",
   "title_sidebar": "Contents",
   "toc_cell": false,
   "toc_position": {},
   "toc_section_display": true,
   "toc_window_display": false
  },
  "varInspector": {
   "cols": {
    "lenName": 16,
    "lenType": 16,
    "lenVar": 40
   },
   "kernels_config": {
    "python": {
     "delete_cmd_postfix": "",
     "delete_cmd_prefix": "del ",
     "library": "var_list.py",
     "varRefreshCmd": "print(var_dic_list())"
    },
    "r": {
     "delete_cmd_postfix": ") ",
     "delete_cmd_prefix": "rm(",
     "library": "var_list.r",
     "varRefreshCmd": "cat(var_dic_list()) "
    }
   },
   "types_to_exclude": [
    "module",
    "function",
    "builtin_function_or_method",
    "instance",
    "_Feature"
   ],
   "window_display": false
  }
 },
 "nbformat": 4,
 "nbformat_minor": 2
}
